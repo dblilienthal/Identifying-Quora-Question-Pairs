{
 "cells": [
  {
   "cell_type": "markdown",
   "id": "c870753b",
   "metadata": {},
   "source": [
    "# Identifying Similar Questions"
   ]
  },
  {
   "cell_type": "markdown",
   "id": "a93315e8",
   "metadata": {},
   "source": [
    "In this notebook, I will be performing Exploratory Data Analysis (EDA) and preprocessing the datasets for training"
   ]
  },
  {
   "cell_type": "markdown",
   "id": "f0f4ae9b",
   "metadata": {},
   "source": [
    "**Imports**"
   ]
  },
  {
   "cell_type": "code",
   "execution_count": 3,
   "id": "20788746",
   "metadata": {},
   "outputs": [],
   "source": [
    "import re\n",
    "import string\n",
    "import pandas as pd\n",
    "import numpy as np\n",
    "import seaborn as sns\n",
    "import matplotlib.pyplot as plt\n",
    "from sentence_transformers import SentenceTransformer, util\n",
    "from sklearn.model_selection import train_test_split\n",
    "import torch\n",
    "import warnings\n",
    "import nltk\n",
    "from tqdm import tqdm # Progress Bar\n",
    "from nltk.corpus import stopwords\n",
    "warnings.filterwarnings(\"ignore\")\n",
    "\n",
    "plt.style.use('ggplot')\n",
    "%matplotlib inline"
   ]
  },
  {
   "cell_type": "markdown",
   "id": "944d86dd",
   "metadata": {},
   "source": [
    "**Import the data**"
   ]
  },
  {
   "cell_type": "markdown",
   "id": "eecd5aba",
   "metadata": {},
   "source": [
    "https://www.kaggle.com/mysarahmadbhat/quora-questions-duplicacy"
   ]
  },
  {
   "cell_type": "code",
   "execution_count": 4,
   "id": "7f3ae240",
   "metadata": {},
   "outputs": [],
   "source": [
    "df = pd.read_csv('./quora.csv', index_col=0)"
   ]
  },
  {
   "cell_type": "code",
   "execution_count": 5,
   "id": "8a9dc75f",
   "metadata": {},
   "outputs": [
    {
     "data": {
      "text/html": [
       "<div>\n",
       "<style scoped>\n",
       "    .dataframe tbody tr th:only-of-type {\n",
       "        vertical-align: middle;\n",
       "    }\n",
       "\n",
       "    .dataframe tbody tr th {\n",
       "        vertical-align: top;\n",
       "    }\n",
       "\n",
       "    .dataframe thead th {\n",
       "        text-align: right;\n",
       "    }\n",
       "</style>\n",
       "<table border=\"1\" class=\"dataframe\">\n",
       "  <thead>\n",
       "    <tr style=\"text-align: right;\">\n",
       "      <th></th>\n",
       "      <th>index</th>\n",
       "      <th>id</th>\n",
       "      <th>qid1</th>\n",
       "      <th>qid2</th>\n",
       "      <th>question1</th>\n",
       "      <th>question2</th>\n",
       "      <th>is_duplicate</th>\n",
       "    </tr>\n",
       "  </thead>\n",
       "  <tbody>\n",
       "    <tr>\n",
       "      <th>0</th>\n",
       "      <td>8067</td>\n",
       "      <td>8067</td>\n",
       "      <td>15738</td>\n",
       "      <td>15739</td>\n",
       "      <td>How do I play Pokémon GO in Korea?</td>\n",
       "      <td>How do I play Pokémon GO in China?</td>\n",
       "      <td>0</td>\n",
       "    </tr>\n",
       "    <tr>\n",
       "      <th>1</th>\n",
       "      <td>368101</td>\n",
       "      <td>368101</td>\n",
       "      <td>12736</td>\n",
       "      <td>104117</td>\n",
       "      <td>What are some of the best side dishes for crab...</td>\n",
       "      <td>What are some good side dishes for buffalo chi...</td>\n",
       "      <td>0</td>\n",
       "    </tr>\n",
       "    <tr>\n",
       "      <th>2</th>\n",
       "      <td>70497</td>\n",
       "      <td>70497</td>\n",
       "      <td>121486</td>\n",
       "      <td>121487</td>\n",
       "      <td>Which is more advisable and better material fo...</td>\n",
       "      <td>What is the best server setup for buddypress?</td>\n",
       "      <td>0</td>\n",
       "    </tr>\n",
       "    <tr>\n",
       "      <th>3</th>\n",
       "      <td>226567</td>\n",
       "      <td>226567</td>\n",
       "      <td>254474</td>\n",
       "      <td>258192</td>\n",
       "      <td>How do I improve logical programming skills?</td>\n",
       "      <td>How can I improve my logical skills for progra...</td>\n",
       "      <td>1</td>\n",
       "    </tr>\n",
       "    <tr>\n",
       "      <th>4</th>\n",
       "      <td>73186</td>\n",
       "      <td>73186</td>\n",
       "      <td>48103</td>\n",
       "      <td>3062</td>\n",
       "      <td>How close we are to see 3rd world war?</td>\n",
       "      <td>How close is a World War III?</td>\n",
       "      <td>1</td>\n",
       "    </tr>\n",
       "  </tbody>\n",
       "</table>\n",
       "</div>"
      ],
      "text/plain": [
       "    index      id    qid1    qid2  \\\n",
       "0    8067    8067   15738   15739   \n",
       "1  368101  368101   12736  104117   \n",
       "2   70497   70497  121486  121487   \n",
       "3  226567  226567  254474  258192   \n",
       "4   73186   73186   48103    3062   \n",
       "\n",
       "                                           question1  \\\n",
       "0                 How do I play Pokémon GO in Korea?   \n",
       "1  What are some of the best side dishes for crab...   \n",
       "2  Which is more advisable and better material fo...   \n",
       "3       How do I improve logical programming skills?   \n",
       "4             How close we are to see 3rd world war?   \n",
       "\n",
       "                                           question2  is_duplicate  \n",
       "0                 How do I play Pokémon GO in China?             0  \n",
       "1  What are some good side dishes for buffalo chi...             0  \n",
       "2      What is the best server setup for buddypress?             0  \n",
       "3  How can I improve my logical skills for progra...             1  \n",
       "4                      How close is a World War III?             1  "
      ]
     },
     "execution_count": 5,
     "metadata": {},
     "output_type": "execute_result"
    }
   ],
   "source": [
    "df.head()"
   ]
  },
  {
   "cell_type": "code",
   "execution_count": 6,
   "id": "b4a0a532",
   "metadata": {},
   "outputs": [
    {
     "name": "stdout",
     "output_type": "stream",
     "text": [
      "<class 'pandas.core.frame.DataFrame'>\n",
      "Int64Index: 100000 entries, 0 to 99999\n",
      "Data columns (total 7 columns):\n",
      " #   Column        Non-Null Count   Dtype \n",
      "---  ------        --------------   ----- \n",
      " 0   index         100000 non-null  int64 \n",
      " 1   id            100000 non-null  int64 \n",
      " 2   qid1          100000 non-null  int64 \n",
      " 3   qid2          100000 non-null  int64 \n",
      " 4   question1     100000 non-null  object\n",
      " 5   question2     100000 non-null  object\n",
      " 6   is_duplicate  100000 non-null  int64 \n",
      "dtypes: int64(5), object(2)\n",
      "memory usage: 6.1+ MB\n"
     ]
    }
   ],
   "source": [
    "df.info()"
   ]
  },
  {
   "cell_type": "markdown",
   "id": "bcfffb9b",
   "metadata": {},
   "source": [
    "Dropping any duplicates (If Existing)"
   ]
  },
  {
   "cell_type": "code",
   "execution_count": 7,
   "id": "a0029281",
   "metadata": {},
   "outputs": [],
   "source": [
    "df.drop_duplicates(inplace=True)"
   ]
  },
  {
   "cell_type": "markdown",
   "id": "f72c8549",
   "metadata": {},
   "source": [
    "Looking for missing values"
   ]
  },
  {
   "cell_type": "code",
   "execution_count": 8,
   "id": "5a2016e4",
   "metadata": {},
   "outputs": [
    {
     "data": {
      "text/plain": [
       "index           0\n",
       "id              0\n",
       "qid1            0\n",
       "qid2            0\n",
       "question1       0\n",
       "question2       0\n",
       "is_duplicate    0\n",
       "dtype: int64"
      ]
     },
     "execution_count": 8,
     "metadata": {},
     "output_type": "execute_result"
    }
   ],
   "source": [
    "df.isna().sum()"
   ]
  },
  {
   "cell_type": "markdown",
   "id": "d350d158",
   "metadata": {},
   "source": [
    "Number of labels"
   ]
  },
  {
   "cell_type": "code",
   "execution_count": 9,
   "id": "6788a599",
   "metadata": {},
   "outputs": [
    {
     "data": {
      "image/png": "[encoded data removed]",
      "text/plain": [
       "<Figure size 432x288 with 1 Axes>"
      ]
     },
     "metadata": {
      "needs_background": "light"
     },
     "output_type": "display_data"
    }
   ],
   "source": [
    "df['is_duplicate'].value_counts().plot.bar()\n",
    "plt.title('Number of Duplicates')\n",
    "plt.xticks([0,1],['Not Duplicate','Duplicate'], rotation=0);"
   ]
  },
  {
   "cell_type": "markdown",
   "id": "657841d9",
   "metadata": {},
   "source": [
    "The dataset is imbalanced when it comes to labels"
   ]
  },
  {
   "cell_type": "markdown",
   "id": "488303e1",
   "metadata": {},
   "source": [
    "**Calculating the word lengths of each set of questions**"
   ]
  },
  {
   "cell_type": "code",
   "execution_count": 10,
   "id": "7b135231",
   "metadata": {},
   "outputs": [],
   "source": [
    "df[\"question1_wc\"] = df[\"question1\"].apply(lambda x: len(x.split(' ')))\n",
    "df[\"question2_wc\"] = df[\"question2\"].apply(lambda x: len(x.split(' ')))"
   ]
  },
  {
   "cell_type": "code",
   "execution_count": 11,
   "id": "60ac9f30",
   "metadata": {},
   "outputs": [
    {
     "data": {
      "text/html": [
       "<div>\n",
       "<style scoped>\n",
       "    .dataframe tbody tr th:only-of-type {\n",
       "        vertical-align: middle;\n",
       "    }\n",
       "\n",
       "    .dataframe tbody tr th {\n",
       "        vertical-align: top;\n",
       "    }\n",
       "\n",
       "    .dataframe thead th {\n",
       "        text-align: right;\n",
       "    }\n",
       "</style>\n",
       "<table border=\"1\" class=\"dataframe\">\n",
       "  <thead>\n",
       "    <tr style=\"text-align: right;\">\n",
       "      <th></th>\n",
       "      <th>question1</th>\n",
       "      <th>question2</th>\n",
       "      <th>question1_wc</th>\n",
       "      <th>question2_wc</th>\n",
       "      <th>is_duplicate</th>\n",
       "    </tr>\n",
       "  </thead>\n",
       "  <tbody>\n",
       "    <tr>\n",
       "      <th>0</th>\n",
       "      <td>How do I play Pokémon GO in Korea?</td>\n",
       "      <td>How do I play Pokémon GO in China?</td>\n",
       "      <td>8</td>\n",
       "      <td>8</td>\n",
       "      <td>0</td>\n",
       "    </tr>\n",
       "    <tr>\n",
       "      <th>1</th>\n",
       "      <td>What are some of the best side dishes for crab...</td>\n",
       "      <td>What are some good side dishes for buffalo chi...</td>\n",
       "      <td>11</td>\n",
       "      <td>9</td>\n",
       "      <td>0</td>\n",
       "    </tr>\n",
       "    <tr>\n",
       "      <th>2</th>\n",
       "      <td>Which is more advisable and better material fo...</td>\n",
       "      <td>What is the best server setup for buddypress?</td>\n",
       "      <td>16</td>\n",
       "      <td>8</td>\n",
       "      <td>0</td>\n",
       "    </tr>\n",
       "    <tr>\n",
       "      <th>3</th>\n",
       "      <td>How do I improve logical programming skills?</td>\n",
       "      <td>How can I improve my logical skills for progra...</td>\n",
       "      <td>7</td>\n",
       "      <td>9</td>\n",
       "      <td>1</td>\n",
       "    </tr>\n",
       "    <tr>\n",
       "      <th>4</th>\n",
       "      <td>How close we are to see 3rd world war?</td>\n",
       "      <td>How close is a World War III?</td>\n",
       "      <td>9</td>\n",
       "      <td>7</td>\n",
       "      <td>1</td>\n",
       "    </tr>\n",
       "  </tbody>\n",
       "</table>\n",
       "</div>"
      ],
      "text/plain": [
       "                                           question1  \\\n",
       "0                 How do I play Pokémon GO in Korea?   \n",
       "1  What are some of the best side dishes for crab...   \n",
       "2  Which is more advisable and better material fo...   \n",
       "3       How do I improve logical programming skills?   \n",
       "4             How close we are to see 3rd world war?   \n",
       "\n",
       "                                           question2  question1_wc  \\\n",
       "0                 How do I play Pokémon GO in China?             8   \n",
       "1  What are some good side dishes for buffalo chi...            11   \n",
       "2      What is the best server setup for buddypress?            16   \n",
       "3  How can I improve my logical skills for progra...             7   \n",
       "4                      How close is a World War III?             9   \n",
       "\n",
       "   question2_wc  is_duplicate  \n",
       "0             8             0  \n",
       "1             9             0  \n",
       "2             8             0  \n",
       "3             9             1  \n",
       "4             7             1  "
      ]
     },
     "execution_count": 11,
     "metadata": {},
     "output_type": "execute_result"
    }
   ],
   "source": [
    "df[['question1','question2','question1_wc','question2_wc','is_duplicate']].head()"
   ]
  },
  {
   "cell_type": "code",
   "execution_count": 12,
   "id": "1353e951",
   "metadata": {},
   "outputs": [
    {
     "data": {
      "image/png": "[encoded data removed]",
      "text/plain": [
       "<Figure size 720x720 with 4 Axes>"
      ]
     },
     "metadata": {
      "needs_background": "light"
     },
     "output_type": "display_data"
    }
   ],
   "source": [
    "fig, axes = plt.subplots(2,2, figsize=(10,10))\n",
    "num_range = 40\n",
    "x = np.arange(0, num_range)\n",
    "alpha = 0.15\n",
    "\n",
    "plt.sca(axes[0,0])\n",
    "y1 = df[df['is_duplicate']==0]['question1_wc'].value_counts().sort_index().values[:num_range]\n",
    "y2 = df[df['is_duplicate']==0]['question2_wc'].value_counts().sort_index().values[:num_range]\n",
    "plt.fill_between(x, y1, alpha=alpha)\n",
    "plt.fill_between(x, y2, alpha=alpha)\n",
    "plt.plot(x, y1, label='Question 1 Word Count')\n",
    "plt.plot(x, y2, label='Question 2 Word Count')\n",
    "plt.title('Word Counts of Question 1 and 2\\nWhen the question is not a duplicate')\n",
    "plt.legend()\n",
    "\n",
    "plt.sca(axes[0,1])\n",
    "y1 = df[df['is_duplicate']==0]['question1_wc'].value_counts().sort_index().values[:num_range]\n",
    "y2 = df[df['is_duplicate']==1]['question1_wc'].value_counts().sort_index().values[:num_range]\n",
    "plt.fill_between(x, y1, alpha=alpha)\n",
    "plt.fill_between(x, y2, alpha=alpha)\n",
    "plt.plot(x, y1, label='Duplicate Word Count')\n",
    "plt.plot(x, y2, label='Not uplicate Word Count')\n",
    "plt.title('Word Counts of Question 1')\n",
    "plt.legend()\n",
    "\n",
    "plt.sca(axes[1,0])\n",
    "y1 = df[df['is_duplicate']==0]['question2_wc'].value_counts().sort_index().values[:num_range]\n",
    "y2 = df[df['is_duplicate']==1]['question2_wc'].value_counts().sort_index().values[:num_range]\n",
    "plt.fill_between(x, y1, alpha=alpha)\n",
    "plt.fill_between(x, y2, alpha=alpha)\n",
    "plt.plot(x, y1, label='Duplicate Word Count')\n",
    "plt.plot(x, y2, label='Not uplicate Word Count')\n",
    "plt.title('Word Counts of Question 2')\n",
    "plt.legend()\n",
    "\n",
    "plt.sca(axes[1,1])\n",
    "y1 = df[df['is_duplicate']==1]['question1_wc'].value_counts().sort_index().values[:num_range]\n",
    "y2 = df[df['is_duplicate']==1]['question2_wc'].value_counts().sort_index().values[:num_range]\n",
    "plt.fill_between(x, y1, alpha=alpha)\n",
    "plt.fill_between(x, y2, alpha=alpha)\n",
    "plt.plot(x, y1, label='Question 1 Word Count')\n",
    "plt.plot(x, y2, label='Question 2 Word Count')\n",
    "plt.title('Word Counts of Question 1 and 2\\nWhen the question is a duplicate')\n",
    "plt.legend()\n",
    "\n",
    "fig.suptitle('Word Counts of Question 1 and 2', fontsize=30)\n",
    "fig.tight_layout();"
   ]
  },
  {
   "cell_type": "markdown",
   "id": "73c09060",
   "metadata": {},
   "source": [
    "The word count is identical inbetween question pairs. But there are more words in questions that are labeled as duplicate than not duplicate."
   ]
  },
  {
   "cell_type": "markdown",
   "id": "f6dc381e",
   "metadata": {},
   "source": [
    "**Get the difference in word counts**"
   ]
  },
  {
   "cell_type": "code",
   "execution_count": 13,
   "id": "be080ecd",
   "metadata": {},
   "outputs": [
    {
     "data": {
      "text/html": [
       "<div>\n",
       "<style scoped>\n",
       "    .dataframe tbody tr th:only-of-type {\n",
       "        vertical-align: middle;\n",
       "    }\n",
       "\n",
       "    .dataframe tbody tr th {\n",
       "        vertical-align: top;\n",
       "    }\n",
       "\n",
       "    .dataframe thead th {\n",
       "        text-align: right;\n",
       "    }\n",
       "</style>\n",
       "<table border=\"1\" class=\"dataframe\">\n",
       "  <thead>\n",
       "    <tr style=\"text-align: right;\">\n",
       "      <th></th>\n",
       "      <th>question1</th>\n",
       "      <th>question2</th>\n",
       "      <th>question1_wc</th>\n",
       "      <th>question2_wc</th>\n",
       "      <th>is_duplicate</th>\n",
       "      <th>q1_q2_diff</th>\n",
       "    </tr>\n",
       "  </thead>\n",
       "  <tbody>\n",
       "    <tr>\n",
       "      <th>0</th>\n",
       "      <td>How do I play Pokémon GO in Korea?</td>\n",
       "      <td>How do I play Pokémon GO in China?</td>\n",
       "      <td>8</td>\n",
       "      <td>8</td>\n",
       "      <td>0</td>\n",
       "      <td>0</td>\n",
       "    </tr>\n",
       "    <tr>\n",
       "      <th>1</th>\n",
       "      <td>What are some of the best side dishes for crab...</td>\n",
       "      <td>What are some good side dishes for buffalo chi...</td>\n",
       "      <td>11</td>\n",
       "      <td>9</td>\n",
       "      <td>0</td>\n",
       "      <td>2</td>\n",
       "    </tr>\n",
       "    <tr>\n",
       "      <th>2</th>\n",
       "      <td>Which is more advisable and better material fo...</td>\n",
       "      <td>What is the best server setup for buddypress?</td>\n",
       "      <td>16</td>\n",
       "      <td>8</td>\n",
       "      <td>0</td>\n",
       "      <td>8</td>\n",
       "    </tr>\n",
       "    <tr>\n",
       "      <th>3</th>\n",
       "      <td>How do I improve logical programming skills?</td>\n",
       "      <td>How can I improve my logical skills for progra...</td>\n",
       "      <td>7</td>\n",
       "      <td>9</td>\n",
       "      <td>1</td>\n",
       "      <td>-2</td>\n",
       "    </tr>\n",
       "    <tr>\n",
       "      <th>4</th>\n",
       "      <td>How close we are to see 3rd world war?</td>\n",
       "      <td>How close is a World War III?</td>\n",
       "      <td>9</td>\n",
       "      <td>7</td>\n",
       "      <td>1</td>\n",
       "      <td>2</td>\n",
       "    </tr>\n",
       "    <tr>\n",
       "      <th>...</th>\n",
       "      <td>...</td>\n",
       "      <td>...</td>\n",
       "      <td>...</td>\n",
       "      <td>...</td>\n",
       "      <td>...</td>\n",
       "      <td>...</td>\n",
       "    </tr>\n",
       "    <tr>\n",
       "      <th>99995</th>\n",
       "      <td>How do I market my software product?</td>\n",
       "      <td>How do I market a software product?</td>\n",
       "      <td>7</td>\n",
       "      <td>7</td>\n",
       "      <td>1</td>\n",
       "      <td>0</td>\n",
       "    </tr>\n",
       "    <tr>\n",
       "      <th>99996</th>\n",
       "      <td>I imagine stabbing people in the throat all th...</td>\n",
       "      <td>Where online can I track how the California pr...</td>\n",
       "      <td>16</td>\n",
       "      <td>15</td>\n",
       "      <td>0</td>\n",
       "      <td>1</td>\n",
       "    </tr>\n",
       "    <tr>\n",
       "      <th>99997</th>\n",
       "      <td>What is the best online English dictionary?</td>\n",
       "      <td>What’s the best online english dictionary?</td>\n",
       "      <td>7</td>\n",
       "      <td>6</td>\n",
       "      <td>1</td>\n",
       "      <td>1</td>\n",
       "    </tr>\n",
       "    <tr>\n",
       "      <th>99998</th>\n",
       "      <td>Which are some good english movies?</td>\n",
       "      <td>What are your favourite 10/10 Hollywood movies?</td>\n",
       "      <td>6</td>\n",
       "      <td>7</td>\n",
       "      <td>0</td>\n",
       "      <td>-1</td>\n",
       "    </tr>\n",
       "    <tr>\n",
       "      <th>99999</th>\n",
       "      <td>How does a skunk spray?</td>\n",
       "      <td>How do skunks spray?</td>\n",
       "      <td>5</td>\n",
       "      <td>4</td>\n",
       "      <td>1</td>\n",
       "      <td>1</td>\n",
       "    </tr>\n",
       "  </tbody>\n",
       "</table>\n",
       "<p>100000 rows × 6 columns</p>\n",
       "</div>"
      ],
      "text/plain": [
       "                                               question1  \\\n",
       "0                     How do I play Pokémon GO in Korea?   \n",
       "1      What are some of the best side dishes for crab...   \n",
       "2      Which is more advisable and better material fo...   \n",
       "3           How do I improve logical programming skills?   \n",
       "4                 How close we are to see 3rd world war?   \n",
       "...                                                  ...   \n",
       "99995               How do I market my software product?   \n",
       "99996  I imagine stabbing people in the throat all th...   \n",
       "99997        What is the best online English dictionary?   \n",
       "99998                Which are some good english movies?   \n",
       "99999                            How does a skunk spray?   \n",
       "\n",
       "                                               question2  question1_wc  \\\n",
       "0                     How do I play Pokémon GO in China?             8   \n",
       "1      What are some good side dishes for buffalo chi...            11   \n",
       "2          What is the best server setup for buddypress?            16   \n",
       "3      How can I improve my logical skills for progra...             7   \n",
       "4                          How close is a World War III?             9   \n",
       "...                                                  ...           ...   \n",
       "99995                How do I market a software product?             7   \n",
       "99996  Where online can I track how the California pr...            16   \n",
       "99997         What’s the best online english dictionary?             7   \n",
       "99998    What are your favourite 10/10 Hollywood movies?             6   \n",
       "99999                               How do skunks spray?             5   \n",
       "\n",
       "       question2_wc  is_duplicate  q1_q2_diff  \n",
       "0                 8             0           0  \n",
       "1                 9             0           2  \n",
       "2                 8             0           8  \n",
       "3                 9             1          -2  \n",
       "4                 7             1           2  \n",
       "...             ...           ...         ...  \n",
       "99995             7             1           0  \n",
       "99996            15             0           1  \n",
       "99997             6             1           1  \n",
       "99998             7             0          -1  \n",
       "99999             4             1           1  \n",
       "\n",
       "[100000 rows x 6 columns]"
      ]
     },
     "execution_count": 13,
     "metadata": {},
     "output_type": "execute_result"
    }
   ],
   "source": [
    "df['q1_q2_diff'] = df['question1_wc'] - df['question2_wc']\n",
    "df[['question1','question2','question1_wc','question2_wc','is_duplicate','q1_q2_diff']]"
   ]
  },
  {
   "cell_type": "code",
   "execution_count": 14,
   "id": "3400b3ac",
   "metadata": {},
   "outputs": [
    {
     "data": {
      "image/png": "[encoded data removed]",
      "text/plain": [
       "<Figure size 720x360 with 2 Axes>"
      ]
     },
     "metadata": {
      "needs_background": "light"
     },
     "output_type": "display_data"
    }
   ],
   "source": [
    "fig, axes = plt.subplots(1, 2, figsize=(10,5))\n",
    "\n",
    "plt.sca(axes[0])\n",
    "x = np.arange(-50,50)\n",
    "y = df['q1_q2_diff'].value_counts().sort_index().values[:x.shape[0]]\n",
    "plt.bar(x, y)\n",
    "plt.xlim(-50,50)\n",
    "plt.axvline(x=0, color='orange')\n",
    "plt.title(f\"Differences in word count between\\nquestion 1 and 2\")\n",
    "plt.xlabel('Word count difference\\nbetween question 1 and question 2')\n",
    "\n",
    "plt.sca(axes[1])\n",
    "df['q1_q2_diff'].plot.box()\n",
    "plt.ylim(-50,50)\n",
    "plt.title('Box plot of differences in word count\\nbetween question 1 and 2')\n",
    "plt.xticks([]) # Getting rid of the x label \n",
    "plt.xlabel('Word count difference\\nbetween question 1 and question 2')\n",
    "plt.legend(['Mean: ' + str(df['q1_q2_diff'].describe().loc['mean'].round(4)) + '\\n' +\n",
    "            'Std: ' + str(df['q1_q2_diff'].describe().loc['std'].round(4)) + '\\n' +\n",
    "            'Min: ' + str(df['q1_q2_diff'].describe().loc['min'].round(4)) + '\\n' +\n",
    "            '25%: ' + str(df['q1_q2_diff'].describe().loc['25%'].round(4)) + '\\n' +\n",
    "            '50%: ' + str(df['q1_q2_diff'].describe().loc['50%'].round(4)) + '\\n' +\n",
    "            '75%: ' + str(df['q1_q2_diff'].describe().loc['75%'].round(4)) + '\\n' +\n",
    "            'Max: ' + str(df['q1_q2_diff'].describe().loc['max'].round(4))])\n",
    "\n",
    "fig.tight_layout();"
   ]
  },
  {
   "cell_type": "markdown",
   "id": "6fd70226",
   "metadata": {},
   "source": [
    "**How many unqiue questions and how many questions have duplicates**"
   ]
  },
  {
   "cell_type": "markdown",
   "id": "0922ae00",
   "metadata": {},
   "source": [
    "*Question 1*"
   ]
  },
  {
   "cell_type": "code",
   "execution_count": 15,
   "id": "6d66370e",
   "metadata": {},
   "outputs": [
    {
     "name": "stdout",
     "output_type": "stream",
     "text": [
      "There are 87006 unique questions and 8367 have duplicates\n"
     ]
    },
    {
     "data": {
      "text/html": [
       "<div>\n",
       "<style scoped>\n",
       "    .dataframe tbody tr th:only-of-type {\n",
       "        vertical-align: middle;\n",
       "    }\n",
       "\n",
       "    .dataframe tbody tr th {\n",
       "        vertical-align: top;\n",
       "    }\n",
       "\n",
       "    .dataframe thead th {\n",
       "        text-align: right;\n",
       "    }\n",
       "</style>\n",
       "<table border=\"1\" class=\"dataframe\">\n",
       "  <thead>\n",
       "    <tr style=\"text-align: right;\">\n",
       "      <th></th>\n",
       "      <th>question1</th>\n",
       "    </tr>\n",
       "  </thead>\n",
       "  <tbody>\n",
       "    <tr>\n",
       "      <th>How do I improve my English speaking?</th>\n",
       "      <td>18</td>\n",
       "    </tr>\n",
       "    <tr>\n",
       "      <th>Why do people often ask questions in Quora while they can Google it themselves?</th>\n",
       "      <td>16</td>\n",
       "    </tr>\n",
       "    <tr>\n",
       "      <th>What are the best ways to lose weight fast?</th>\n",
       "      <td>15</td>\n",
       "    </tr>\n",
       "    <tr>\n",
       "      <th>How can changing 500 and 1000 rupee notes end the black money in India?</th>\n",
       "      <td>14</td>\n",
       "    </tr>\n",
       "    <tr>\n",
       "      <th>What is purpose of life?</th>\n",
       "      <td>13</td>\n",
       "    </tr>\n",
       "    <tr>\n",
       "      <th>Why do people ask questions on Quora that can easily be answered by Google?</th>\n",
       "      <td>13</td>\n",
       "    </tr>\n",
       "    <tr>\n",
       "      <th>What are ways I can make money online?</th>\n",
       "      <td>12</td>\n",
       "    </tr>\n",
       "    <tr>\n",
       "      <th>Why does quora mark my questions as needing improvement?</th>\n",
       "      <td>12</td>\n",
       "    </tr>\n",
       "    <tr>\n",
       "      <th>What's your new year resolution for 2017?</th>\n",
       "      <td>12</td>\n",
       "    </tr>\n",
       "    <tr>\n",
       "      <th>How do I improve my pronunciation of English?</th>\n",
       "      <td>12</td>\n",
       "    </tr>\n",
       "  </tbody>\n",
       "</table>\n",
       "</div>"
      ],
      "text/plain": [
       "                                                    question1\n",
       "How do I improve my English speaking?                      18\n",
       "Why do people often ask questions in Quora whil...         16\n",
       "What are the best ways to lose weight fast?                15\n",
       "How can changing 500 and 1000 rupee notes end t...         14\n",
       "What is purpose of life?                                   13\n",
       "Why do people ask questions on Quora that can e...         13\n",
       "What are ways I can make money online?                     12\n",
       "Why does quora mark my questions as needing imp...         12\n",
       "What's your new year resolution for 2017?                  12\n",
       "How do I improve my pronunciation of English?              12"
      ]
     },
     "execution_count": 15,
     "metadata": {},
     "output_type": "execute_result"
    }
   ],
   "source": [
    "q1_dups = pd.DataFrame(df['question1'].value_counts()[(df['question1'].value_counts() > 1).values])\n",
    "print(f\"There are {len(df['question1'].unique())} unique questions and {q1_dups.shape[0]} have duplicates\")\n",
    "q1_dups[:10]"
   ]
  },
  {
   "cell_type": "markdown",
   "id": "c0fed9b9",
   "metadata": {},
   "source": [
    "*Question 2*"
   ]
  },
  {
   "cell_type": "code",
   "execution_count": 16,
   "id": "c518ab5c",
   "metadata": {},
   "outputs": [
    {
     "name": "stdout",
     "output_type": "stream",
     "text": [
      "There are 87325 unique questions and 7457 have duplicates\n"
     ]
    },
    {
     "data": {
      "text/html": [
       "<div>\n",
       "<style scoped>\n",
       "    .dataframe tbody tr th:only-of-type {\n",
       "        vertical-align: middle;\n",
       "    }\n",
       "\n",
       "    .dataframe tbody tr th {\n",
       "        vertical-align: top;\n",
       "    }\n",
       "\n",
       "    .dataframe thead th {\n",
       "        text-align: right;\n",
       "    }\n",
       "</style>\n",
       "<table border=\"1\" class=\"dataframe\">\n",
       "  <thead>\n",
       "    <tr style=\"text-align: right;\">\n",
       "      <th></th>\n",
       "      <th>question2</th>\n",
       "    </tr>\n",
       "  </thead>\n",
       "  <tbody>\n",
       "    <tr>\n",
       "      <th>What are the best ways to lose weight?</th>\n",
       "      <td>29</td>\n",
       "    </tr>\n",
       "    <tr>\n",
       "      <th>How can I lose weight quickly?</th>\n",
       "      <td>26</td>\n",
       "    </tr>\n",
       "    <tr>\n",
       "      <th>How can you look at someone's private Instagram account without following them?</th>\n",
       "      <td>23</td>\n",
       "    </tr>\n",
       "    <tr>\n",
       "      <th>Which is the best digital marketing course?</th>\n",
       "      <td>17</td>\n",
       "    </tr>\n",
       "    <tr>\n",
       "      <th>What are some things new employees should know going into their first day at AT&amp;T?</th>\n",
       "      <td>17</td>\n",
       "    </tr>\n",
       "    <tr>\n",
       "      <th>What's the easiest way to make money online?</th>\n",
       "      <td>17</td>\n",
       "    </tr>\n",
       "    <tr>\n",
       "      <th>How do you make money online?</th>\n",
       "      <td>14</td>\n",
       "    </tr>\n",
       "    <tr>\n",
       "      <th>What is the best phone to buy below 15k?</th>\n",
       "      <td>14</td>\n",
       "    </tr>\n",
       "    <tr>\n",
       "      <th>How can I become fluent in English?</th>\n",
       "      <td>14</td>\n",
       "    </tr>\n",
       "    <tr>\n",
       "      <th>How could I make money online?</th>\n",
       "      <td>14</td>\n",
       "    </tr>\n",
       "  </tbody>\n",
       "</table>\n",
       "</div>"
      ],
      "text/plain": [
       "                                                    question2\n",
       "What are the best ways to lose weight?                     29\n",
       "How can I lose weight quickly?                             26\n",
       "How can you look at someone's private Instagram...         23\n",
       "Which is the best digital marketing course?                17\n",
       "What are some things new employees should know ...         17\n",
       "What's the easiest way to make money online?               17\n",
       "How do you make money online?                              14\n",
       "What is the best phone to buy below 15k?                   14\n",
       "How can I become fluent in English?                        14\n",
       "How could I make money online?                             14"
      ]
     },
     "execution_count": 16,
     "metadata": {},
     "output_type": "execute_result"
    }
   ],
   "source": [
    "q2_dups = pd.DataFrame(df['question2'].value_counts()[(df['question2'].value_counts() > 1).values])\n",
    "print(f\"There are {len(df['question2'].unique())} unique questions and {q2_dups.shape[0]} have duplicates\")\n",
    "q2_dups[:10]"
   ]
  },
  {
   "cell_type": "markdown",
   "id": "e13b9d34",
   "metadata": {},
   "source": [
    "## Looking at cosine similarity between questions"
   ]
  },
  {
   "cell_type": "markdown",
   "id": "e2b814e1",
   "metadata": {},
   "source": [
    "For generating embeddings, I will be using SBERT to generate the embeddings"
   ]
  },
  {
   "cell_type": "markdown",
   "id": "bbe2ac23",
   "metadata": {},
   "source": [
    "**Load the Sentence Embedding Model**"
   ]
  },
  {
   "cell_type": "code",
   "execution_count": 17,
   "id": "affec2b0",
   "metadata": {},
   "outputs": [],
   "source": [
    "bert_model = SentenceTransformer('bert-large-nli-mean-tokens', device='cuda')"
   ]
  },
  {
   "cell_type": "markdown",
   "id": "b9ef65cf",
   "metadata": {},
   "source": [
    "### Getting all the SBERT embeddings"
   ]
  },
  {
   "cell_type": "markdown",
   "id": "c541ed58",
   "metadata": {},
   "source": [
    "*This can take a while to execute. 30+ minutes on the entire dataset!*"
   ]
  },
  {
   "cell_type": "code",
   "execution_count": 18,
   "id": "c70ee4e3",
   "metadata": {},
   "outputs": [],
   "source": [
    "# q1_embeddings_list = []\n",
    "# q2_embeddings_list = []\n",
    "\n",
    "# for i in tqdm(range(df.shape[0])):\n",
    "#     q1 = df.at[i, 'question1']\n",
    "#     q2 = df.at[i, 'question2']\n",
    "#     embeddings = bert_model.encode([q1, q2])\n",
    "#     q1_embeddings_list.append(embeddings[0])\n",
    "#     q2_embeddings_list.append(embeddings[1])\n",
    "\n",
    "### Saving the embeddings as a dataframe with the labels ###\n",
    "\n",
    "# df_embeddings = pd.DataFrame(np.hstack((q1_embeddings_list, \n",
    "#                                         q2_embeddings_list, \n",
    "#                                         df['is_duplicate'].values.reshape(-1,1)))).to_csv('quora_embeddings.csv', index=False)"
   ]
  },
  {
   "cell_type": "markdown",
   "id": "f2eaabbc",
   "metadata": {},
   "source": [
    "*Loading the dataframe instead of re-running code*"
   ]
  },
  {
   "cell_type": "code",
   "execution_count": 19,
   "id": "47b09d4e",
   "metadata": {
    "scrolled": false
   },
   "outputs": [
    {
     "data": {
      "text/html": [
       "<div>\n",
       "<style scoped>\n",
       "    .dataframe tbody tr th:only-of-type {\n",
       "        vertical-align: middle;\n",
       "    }\n",
       "\n",
       "    .dataframe tbody tr th {\n",
       "        vertical-align: top;\n",
       "    }\n",
       "\n",
       "    .dataframe thead th {\n",
       "        text-align: right;\n",
       "    }\n",
       "</style>\n",
       "<table border=\"1\" class=\"dataframe\">\n",
       "  <thead>\n",
       "    <tr style=\"text-align: right;\">\n",
       "      <th></th>\n",
       "      <th>0</th>\n",
       "      <th>1</th>\n",
       "      <th>2</th>\n",
       "      <th>3</th>\n",
       "      <th>4</th>\n",
       "      <th>5</th>\n",
       "      <th>6</th>\n",
       "      <th>7</th>\n",
       "      <th>8</th>\n",
       "      <th>9</th>\n",
       "      <th>...</th>\n",
       "      <th>2039</th>\n",
       "      <th>2040</th>\n",
       "      <th>2041</th>\n",
       "      <th>2042</th>\n",
       "      <th>2043</th>\n",
       "      <th>2044</th>\n",
       "      <th>2045</th>\n",
       "      <th>2046</th>\n",
       "      <th>2047</th>\n",
       "      <th>2048</th>\n",
       "    </tr>\n",
       "  </thead>\n",
       "  <tbody>\n",
       "    <tr>\n",
       "      <th>0</th>\n",
       "      <td>0.405561</td>\n",
       "      <td>0.351042</td>\n",
       "      <td>0.145522</td>\n",
       "      <td>1.000624</td>\n",
       "      <td>-0.327835</td>\n",
       "      <td>-0.690683</td>\n",
       "      <td>0.415534</td>\n",
       "      <td>0.378593</td>\n",
       "      <td>-0.070010</td>\n",
       "      <td>0.595209</td>\n",
       "      <td>...</td>\n",
       "      <td>0.324852</td>\n",
       "      <td>-0.490256</td>\n",
       "      <td>-0.671185</td>\n",
       "      <td>0.091470</td>\n",
       "      <td>0.934359</td>\n",
       "      <td>0.534707</td>\n",
       "      <td>-0.032896</td>\n",
       "      <td>-0.541392</td>\n",
       "      <td>-1.225177</td>\n",
       "      <td>0.0</td>\n",
       "    </tr>\n",
       "    <tr>\n",
       "      <th>1</th>\n",
       "      <td>0.300924</td>\n",
       "      <td>-0.955288</td>\n",
       "      <td>-0.028438</td>\n",
       "      <td>-0.057767</td>\n",
       "      <td>-0.116978</td>\n",
       "      <td>0.664040</td>\n",
       "      <td>0.017739</td>\n",
       "      <td>0.994033</td>\n",
       "      <td>1.217564</td>\n",
       "      <td>-0.297647</td>\n",
       "      <td>...</td>\n",
       "      <td>-0.696291</td>\n",
       "      <td>-0.581999</td>\n",
       "      <td>-2.126769</td>\n",
       "      <td>0.236446</td>\n",
       "      <td>0.657223</td>\n",
       "      <td>-0.261457</td>\n",
       "      <td>0.327333</td>\n",
       "      <td>-0.159874</td>\n",
       "      <td>-0.559062</td>\n",
       "      <td>0.0</td>\n",
       "    </tr>\n",
       "    <tr>\n",
       "      <th>2</th>\n",
       "      <td>0.394129</td>\n",
       "      <td>-0.020451</td>\n",
       "      <td>0.822735</td>\n",
       "      <td>0.161385</td>\n",
       "      <td>0.290848</td>\n",
       "      <td>0.527879</td>\n",
       "      <td>-0.340961</td>\n",
       "      <td>-0.327334</td>\n",
       "      <td>-0.228196</td>\n",
       "      <td>0.501748</td>\n",
       "      <td>...</td>\n",
       "      <td>-0.211299</td>\n",
       "      <td>-0.892678</td>\n",
       "      <td>-1.750959</td>\n",
       "      <td>0.175476</td>\n",
       "      <td>0.429432</td>\n",
       "      <td>0.389655</td>\n",
       "      <td>0.212048</td>\n",
       "      <td>0.102080</td>\n",
       "      <td>-0.588654</td>\n",
       "      <td>0.0</td>\n",
       "    </tr>\n",
       "    <tr>\n",
       "      <th>3</th>\n",
       "      <td>0.256092</td>\n",
       "      <td>-1.279762</td>\n",
       "      <td>0.247349</td>\n",
       "      <td>-0.618753</td>\n",
       "      <td>0.534039</td>\n",
       "      <td>0.612880</td>\n",
       "      <td>0.307272</td>\n",
       "      <td>0.100198</td>\n",
       "      <td>-0.832151</td>\n",
       "      <td>0.879472</td>\n",
       "      <td>...</td>\n",
       "      <td>-0.398293</td>\n",
       "      <td>-0.139095</td>\n",
       "      <td>-0.957269</td>\n",
       "      <td>0.427750</td>\n",
       "      <td>0.424172</td>\n",
       "      <td>0.942060</td>\n",
       "      <td>0.083971</td>\n",
       "      <td>-1.021245</td>\n",
       "      <td>-0.237951</td>\n",
       "      <td>1.0</td>\n",
       "    </tr>\n",
       "    <tr>\n",
       "      <th>4</th>\n",
       "      <td>0.348143</td>\n",
       "      <td>0.070992</td>\n",
       "      <td>0.533568</td>\n",
       "      <td>0.676788</td>\n",
       "      <td>0.621202</td>\n",
       "      <td>-0.213371</td>\n",
       "      <td>0.060178</td>\n",
       "      <td>0.110749</td>\n",
       "      <td>-0.582947</td>\n",
       "      <td>0.738962</td>\n",
       "      <td>...</td>\n",
       "      <td>0.887324</td>\n",
       "      <td>-1.132204</td>\n",
       "      <td>-0.505966</td>\n",
       "      <td>0.084157</td>\n",
       "      <td>-0.245989</td>\n",
       "      <td>0.200148</td>\n",
       "      <td>0.362305</td>\n",
       "      <td>-0.552422</td>\n",
       "      <td>-0.970416</td>\n",
       "      <td>1.0</td>\n",
       "    </tr>\n",
       "  </tbody>\n",
       "</table>\n",
       "<p>5 rows × 2049 columns</p>\n",
       "</div>"
      ],
      "text/plain": [
       "          0         1         2         3         4         5         6  \\\n",
       "0  0.405561  0.351042  0.145522  1.000624 -0.327835 -0.690683  0.415534   \n",
       "1  0.300924 -0.955288 -0.028438 -0.057767 -0.116978  0.664040  0.017739   \n",
       "2  0.394129 -0.020451  0.822735  0.161385  0.290848  0.527879 -0.340961   \n",
       "3  0.256092 -1.279762  0.247349 -0.618753  0.534039  0.612880  0.307272   \n",
       "4  0.348143  0.070992  0.533568  0.676788  0.621202 -0.213371  0.060178   \n",
       "\n",
       "          7         8         9  ...      2039      2040      2041      2042  \\\n",
       "0  0.378593 -0.070010  0.595209  ...  0.324852 -0.490256 -0.671185  0.091470   \n",
       "1  0.994033  1.217564 -0.297647  ... -0.696291 -0.581999 -2.126769  0.236446   \n",
       "2 -0.327334 -0.228196  0.501748  ... -0.211299 -0.892678 -1.750959  0.175476   \n",
       "3  0.100198 -0.832151  0.879472  ... -0.398293 -0.139095 -0.957269  0.427750   \n",
       "4  0.110749 -0.582947  0.738962  ...  0.887324 -1.132204 -0.505966  0.084157   \n",
       "\n",
       "       2043      2044      2045      2046      2047  2048  \n",
       "0  0.934359  0.534707 -0.032896 -0.541392 -1.225177   0.0  \n",
       "1  0.657223 -0.261457  0.327333 -0.159874 -0.559062   0.0  \n",
       "2  0.429432  0.389655  0.212048  0.102080 -0.588654   0.0  \n",
       "3  0.424172  0.942060  0.083971 -1.021245 -0.237951   1.0  \n",
       "4 -0.245989  0.200148  0.362305 -0.552422 -0.970416   1.0  \n",
       "\n",
       "[5 rows x 2049 columns]"
      ]
     },
     "execution_count": 19,
     "metadata": {},
     "output_type": "execute_result"
    }
   ],
   "source": [
    "df_embeddings = pd.read_csv('./quora_embeddings.csv')\n",
    "df_embeddings.head()"
   ]
  },
  {
   "cell_type": "code",
   "execution_count": 20,
   "id": "25de8979",
   "metadata": {},
   "outputs": [
    {
     "data": {
      "text/plain": [
       "(100000, 2049)"
      ]
     },
     "execution_count": 20,
     "metadata": {},
     "output_type": "execute_result"
    }
   ],
   "source": [
    "df_embeddings.shape"
   ]
  },
  {
   "cell_type": "markdown",
   "id": "cf1bec97",
   "metadata": {},
   "source": [
    "There are 100,000 rows where each row has 2049 different values"
   ]
  },
  {
   "cell_type": "markdown",
   "id": "017547ab",
   "metadata": {},
   "source": [
    "**Looking at the questions with their labels and cosine similarities**"
   ]
  },
  {
   "cell_type": "code",
   "execution_count": 21,
   "id": "38be7805",
   "metadata": {},
   "outputs": [
    {
     "name": "stdout",
     "output_type": "stream",
     "text": [
      "How do I play Pokémon GO in Korea?\n",
      "How do I play Pokémon GO in China?\n",
      "Not Duplicate\n",
      "0.7900386452674866\n"
     ]
    }
   ],
   "source": [
    "index = 0\n",
    "q1 = df.at[index, 'question1']\n",
    "q2 = df.at[index, 'question2']\n",
    "is_dup = df.at[index, 'is_duplicate']\n",
    "embeddings = bert_model.encode([q1, q2])\n",
    "print(q1, q2, sep='\\n')\n",
    "print('Duplicate') if is_dup else print('Not Duplicate')\n",
    "print(float(util.pytorch_cos_sim(embeddings[0], embeddings[1])[0][0]))"
   ]
  },
  {
   "cell_type": "code",
   "execution_count": 22,
   "id": "05f016b9",
   "metadata": {},
   "outputs": [
    {
     "name": "stdout",
     "output_type": "stream",
     "text": [
      "What are some of the best side dishes for crab cakes?\n",
      "What are some good side dishes for buffalo chicken?\n",
      "Not Duplicate\n",
      "0.676845133304596\n"
     ]
    }
   ],
   "source": [
    "index = 1\n",
    "q1 = df.at[index, 'question1']\n",
    "q2 = df.at[index, 'question2']\n",
    "is_dup = df.at[index, 'is_duplicate']\n",
    "embeddings = bert_model.encode([q1, q2])\n",
    "print(q1, q2, sep='\\n')\n",
    "print('Duplicate') if is_dup else print('Not Duplicate')\n",
    "print(float(util.pytorch_cos_sim(embeddings[0], embeddings[1])[0][0]))"
   ]
  },
  {
   "cell_type": "code",
   "execution_count": 23,
   "id": "1ed7bc42",
   "metadata": {},
   "outputs": [
    {
     "name": "stdout",
     "output_type": "stream",
     "text": [
      "How do I improve logical programming skills?\n",
      "What is the best way to improve logical skills in programming?\n",
      "Duplicate\n",
      "0.9723871946334839\n"
     ]
    }
   ],
   "source": [
    "index = 9\n",
    "q1 = df.at[index, 'question1']\n",
    "q2 = df.at[index, 'question2']\n",
    "is_dup = df.at[index, 'is_duplicate']\n",
    "embeddings = bert_model.encode([q1, q2])\n",
    "print(q1, q2, sep='\\n')\n",
    "print('Duplicate') if is_dup else print('Not Duplicate')\n",
    "print(float(util.pytorch_cos_sim(embeddings[0], embeddings[1])[0][0]))"
   ]
  },
  {
   "cell_type": "markdown",
   "id": "62a76e75",
   "metadata": {},
   "source": [
    "**Getting all the cosine similiarity and distances** "
   ]
  },
  {
   "cell_type": "code",
   "execution_count": 24,
   "id": "3ebce2e5",
   "metadata": {},
   "outputs": [],
   "source": [
    "# cs_list = []\n",
    "# distance_list = []\n",
    "\n",
    "# for i in tqdm(range(df.shape[0])):\n",
    "#     ### Cosine Similarity\n",
    "#     cs_list.append(float(util.pytorch_cos_sim(df_embeddings.iloc[i][:1024], df_embeddings.iloc[i][1024:2048])[0][0]))\n",
    "#     ### Distance\n",
    "#     distance_list.append(np.linalg.norm(np.array(df_embeddings.iloc[i][:1024]) - np.array(df_embeddings.iloc[i][1024:2048])))\n",
    "    \n",
    "### Saving the distances as a dataframe with the labels ###\n",
    "    \n",
    "# pd.DataFrame(np.hstack((np.array(cs_list).reshape(-1,1), \n",
    "#                         np.array(distance_list).reshape(-1,1), \n",
    "#                         df['is_duplicate'].values.reshape(-1,1)))).to_csv('quora_cosine_distance.csv', index=False)\n",
    "\n",
    "# df_cos_dist = pd.read_csv('./quora_cosine_distance.csv')\n",
    "# df_cos_dist.rename(columns={'0':'Cosine Similarity', '1':'Distance', '2':'is_duplicate'}, inplace=True)\n",
    "# df_cos_dist.to_csv('quora_cosine_distance.csv', index=False)"
   ]
  },
  {
   "cell_type": "code",
   "execution_count": 25,
   "id": "55e2e8c3",
   "metadata": {},
   "outputs": [
    {
     "data": {
      "text/html": [
       "<div>\n",
       "<style scoped>\n",
       "    .dataframe tbody tr th:only-of-type {\n",
       "        vertical-align: middle;\n",
       "    }\n",
       "\n",
       "    .dataframe tbody tr th {\n",
       "        vertical-align: top;\n",
       "    }\n",
       "\n",
       "    .dataframe thead th {\n",
       "        text-align: right;\n",
       "    }\n",
       "</style>\n",
       "<table border=\"1\" class=\"dataframe\">\n",
       "  <thead>\n",
       "    <tr style=\"text-align: right;\">\n",
       "      <th></th>\n",
       "      <th>Cosine Similarity</th>\n",
       "      <th>Distance</th>\n",
       "      <th>is_duplicate</th>\n",
       "    </tr>\n",
       "  </thead>\n",
       "  <tbody>\n",
       "    <tr>\n",
       "      <th>0</th>\n",
       "      <td>0.790038</td>\n",
       "      <td>12.539657</td>\n",
       "      <td>0.0</td>\n",
       "    </tr>\n",
       "    <tr>\n",
       "      <th>1</th>\n",
       "      <td>0.676845</td>\n",
       "      <td>16.660674</td>\n",
       "      <td>0.0</td>\n",
       "    </tr>\n",
       "    <tr>\n",
       "      <th>2</th>\n",
       "      <td>0.486623</td>\n",
       "      <td>18.434176</td>\n",
       "      <td>0.0</td>\n",
       "    </tr>\n",
       "    <tr>\n",
       "      <th>3</th>\n",
       "      <td>0.972164</td>\n",
       "      <td>4.558162</td>\n",
       "      <td>1.0</td>\n",
       "    </tr>\n",
       "    <tr>\n",
       "      <th>4</th>\n",
       "      <td>0.781517</td>\n",
       "      <td>12.744262</td>\n",
       "      <td>1.0</td>\n",
       "    </tr>\n",
       "  </tbody>\n",
       "</table>\n",
       "</div>"
      ],
      "text/plain": [
       "   Cosine Similarity   Distance  is_duplicate\n",
       "0           0.790038  12.539657           0.0\n",
       "1           0.676845  16.660674           0.0\n",
       "2           0.486623  18.434176           0.0\n",
       "3           0.972164   4.558162           1.0\n",
       "4           0.781517  12.744262           1.0"
      ]
     },
     "execution_count": 25,
     "metadata": {},
     "output_type": "execute_result"
    }
   ],
   "source": [
    "df_cos_dist = pd.read_csv('./quora_cosine_distance.csv')\n",
    "df_cos_dist.head()"
   ]
  },
  {
   "cell_type": "code",
   "execution_count": 26,
   "id": "54f36a2b",
   "metadata": {},
   "outputs": [
    {
     "data": {
      "image/png": "[encoded data removed]",
      "text/plain": [
       "<Figure size 720x360 with 2 Axes>"
      ]
     },
     "metadata": {
      "needs_background": "light"
     },
     "output_type": "display_data"
    }
   ],
   "source": [
    "fig, axes = plt.subplots(1,2, sharex=True, sharey=True, figsize=(10,5))\n",
    "\n",
    "sns.histplot(df_cos_dist['Cosine Similarity'][df_cos_dist['is_duplicate'] == 0], ax=axes[0])\n",
    "plt.sca(axes[0])\n",
    "plt.title('Not Duplicate')\n",
    "sns.histplot(df_cos_dist['Cosine Similarity'][df_cos_dist['is_duplicate'] == 1], ax=axes[1])\n",
    "plt.sca(axes[1])\n",
    "plt.title('Duplicate')\n",
    "fig.suptitle('Distribution of Cosine Similarity Scores\\nfor each Label', fontsize=20)\n",
    "fig.tight_layout();"
   ]
  },
  {
   "cell_type": "code",
   "execution_count": 27,
   "id": "2cda93fe",
   "metadata": {},
   "outputs": [
    {
     "data": {
      "image/png": "[encoded data removed]",
      "text/plain": [
       "<Figure size 720x360 with 2 Axes>"
      ]
     },
     "metadata": {
      "needs_background": "light"
     },
     "output_type": "display_data"
    }
   ],
   "source": [
    "fig, axes = plt.subplots(1,2, sharex=True, sharey=True, figsize=(10,5))\n",
    "\n",
    "sns.histplot(df_cos_dist['Distance'][df_cos_dist['is_duplicate'] == 0], ax=axes[0])\n",
    "plt.sca(axes[0])\n",
    "plt.title('Not Duplicate')\n",
    "sns.histplot(df_cos_dist['Distance'][df_cos_dist['is_duplicate'] == 1], ax=axes[1])\n",
    "plt.sca(axes[1])\n",
    "plt.title('Duplicate')\n",
    "fig.suptitle('Distribution of Euclidean Distance\\nfor each Label', fontsize=20)\n",
    "fig.tight_layout();"
   ]
  },
  {
   "cell_type": "markdown",
   "id": "b7771528",
   "metadata": {},
   "source": [
    "## Cleaning the questions and re-computing the embeddings"
   ]
  },
  {
   "cell_type": "markdown",
   "id": "28abf84f",
   "metadata": {},
   "source": [
    "*Loading Stopwords*"
   ]
  },
  {
   "cell_type": "code",
   "execution_count": 28,
   "id": "fabf3d7e",
   "metadata": {},
   "outputs": [],
   "source": [
    "stop_words = stopwords.words('english')"
   ]
  },
  {
   "cell_type": "markdown",
   "id": "6a294384",
   "metadata": {},
   "source": [
    "*Loading Stemmer*"
   ]
  },
  {
   "cell_type": "code",
   "execution_count": 29,
   "id": "08b7f0ba",
   "metadata": {},
   "outputs": [],
   "source": [
    "stemmer = nltk.SnowballStemmer(\"english\")"
   ]
  },
  {
   "cell_type": "markdown",
   "id": "228fd285",
   "metadata": {},
   "source": [
    "*This function makes text lowercase, remove text in square brackets, remove links, remove punctuation, remove stopwords, use stemming, and remove words containing numbers.*"
   ]
  },
  {
   "cell_type": "code",
   "execution_count": 30,
   "id": "8cc8a24d",
   "metadata": {},
   "outputs": [],
   "source": [
    "def clean_text(text):\n",
    "    text = str(text).lower()\n",
    "    text = re.sub('\\[.*?\\]', '', text)\n",
    "    text = re.sub('https?://\\S+|www\\.\\S+', '', text)\n",
    "    text = re.sub('<.*?>+', '', text)\n",
    "    text = re.sub('[%s]' % re.escape(string.punctuation), '', text)\n",
    "    text = re.sub('\\n', '', text)\n",
    "    text = re.sub('\\w*\\d\\w*', '', text)\n",
    "    \n",
    "    # Remove Stopwords\n",
    "    text = ' '.join(word for word in text.split() if word not in stop_words)\n",
    "    \n",
    "    # Stemming\n",
    "    text = ' '.join(stemmer.stem(word) for word in text.split())\n",
    "    \n",
    "    # Fixing extra whitespaces between words\n",
    "    text = ' '.join(text.split())\n",
    "    return text"
   ]
  },
  {
   "cell_type": "markdown",
   "id": "b768dbe3",
   "metadata": {},
   "source": [
    "*Cleaning the responses*"
   ]
  },
  {
   "cell_type": "code",
   "execution_count": 31,
   "id": "909d1e1f",
   "metadata": {},
   "outputs": [],
   "source": [
    "df['question1_cleaned'] = df['question1'].apply(clean_text)\n",
    "df['question2_cleaned'] = df['question2'].apply(clean_text)"
   ]
  },
  {
   "cell_type": "code",
   "execution_count": 32,
   "id": "e162ad9d",
   "metadata": {},
   "outputs": [
    {
     "data": {
      "text/html": [
       "<div>\n",
       "<style scoped>\n",
       "    .dataframe tbody tr th:only-of-type {\n",
       "        vertical-align: middle;\n",
       "    }\n",
       "\n",
       "    .dataframe tbody tr th {\n",
       "        vertical-align: top;\n",
       "    }\n",
       "\n",
       "    .dataframe thead th {\n",
       "        text-align: right;\n",
       "    }\n",
       "</style>\n",
       "<table border=\"1\" class=\"dataframe\">\n",
       "  <thead>\n",
       "    <tr style=\"text-align: right;\">\n",
       "      <th></th>\n",
       "      <th>index</th>\n",
       "      <th>id</th>\n",
       "      <th>qid1</th>\n",
       "      <th>qid2</th>\n",
       "      <th>question1</th>\n",
       "      <th>question2</th>\n",
       "      <th>is_duplicate</th>\n",
       "      <th>question1_wc</th>\n",
       "      <th>question2_wc</th>\n",
       "      <th>q1_q2_diff</th>\n",
       "      <th>question1_cleaned</th>\n",
       "      <th>question2_cleaned</th>\n",
       "    </tr>\n",
       "  </thead>\n",
       "  <tbody>\n",
       "    <tr>\n",
       "      <th>0</th>\n",
       "      <td>8067</td>\n",
       "      <td>8067</td>\n",
       "      <td>15738</td>\n",
       "      <td>15739</td>\n",
       "      <td>How do I play Pokémon GO in Korea?</td>\n",
       "      <td>How do I play Pokémon GO in China?</td>\n",
       "      <td>0</td>\n",
       "      <td>8</td>\n",
       "      <td>8</td>\n",
       "      <td>0</td>\n",
       "      <td>play pokémon go korea</td>\n",
       "      <td>play pokémon go china</td>\n",
       "    </tr>\n",
       "    <tr>\n",
       "      <th>1</th>\n",
       "      <td>368101</td>\n",
       "      <td>368101</td>\n",
       "      <td>12736</td>\n",
       "      <td>104117</td>\n",
       "      <td>What are some of the best side dishes for crab...</td>\n",
       "      <td>What are some good side dishes for buffalo chi...</td>\n",
       "      <td>0</td>\n",
       "      <td>11</td>\n",
       "      <td>9</td>\n",
       "      <td>2</td>\n",
       "      <td>best side dish crab cake</td>\n",
       "      <td>good side dish buffalo chicken</td>\n",
       "    </tr>\n",
       "    <tr>\n",
       "      <th>2</th>\n",
       "      <td>70497</td>\n",
       "      <td>70497</td>\n",
       "      <td>121486</td>\n",
       "      <td>121487</td>\n",
       "      <td>Which is more advisable and better material fo...</td>\n",
       "      <td>What is the best server setup for buddypress?</td>\n",
       "      <td>0</td>\n",
       "      <td>16</td>\n",
       "      <td>8</td>\n",
       "      <td>8</td>\n",
       "      <td>advis better materi crash test automobil ducti...</td>\n",
       "      <td>best server setup buddypress</td>\n",
       "    </tr>\n",
       "    <tr>\n",
       "      <th>3</th>\n",
       "      <td>226567</td>\n",
       "      <td>226567</td>\n",
       "      <td>254474</td>\n",
       "      <td>258192</td>\n",
       "      <td>How do I improve logical programming skills?</td>\n",
       "      <td>How can I improve my logical skills for progra...</td>\n",
       "      <td>1</td>\n",
       "      <td>7</td>\n",
       "      <td>9</td>\n",
       "      <td>-2</td>\n",
       "      <td>improv logic program skill</td>\n",
       "      <td>improv logic skill program</td>\n",
       "    </tr>\n",
       "    <tr>\n",
       "      <th>4</th>\n",
       "      <td>73186</td>\n",
       "      <td>73186</td>\n",
       "      <td>48103</td>\n",
       "      <td>3062</td>\n",
       "      <td>How close we are to see 3rd world war?</td>\n",
       "      <td>How close is a World War III?</td>\n",
       "      <td>1</td>\n",
       "      <td>9</td>\n",
       "      <td>7</td>\n",
       "      <td>2</td>\n",
       "      <td>close see world war</td>\n",
       "      <td>close world war iii</td>\n",
       "    </tr>\n",
       "  </tbody>\n",
       "</table>\n",
       "</div>"
      ],
      "text/plain": [
       "    index      id    qid1    qid2  \\\n",
       "0    8067    8067   15738   15739   \n",
       "1  368101  368101   12736  104117   \n",
       "2   70497   70497  121486  121487   \n",
       "3  226567  226567  254474  258192   \n",
       "4   73186   73186   48103    3062   \n",
       "\n",
       "                                           question1  \\\n",
       "0                 How do I play Pokémon GO in Korea?   \n",
       "1  What are some of the best side dishes for crab...   \n",
       "2  Which is more advisable and better material fo...   \n",
       "3       How do I improve logical programming skills?   \n",
       "4             How close we are to see 3rd world war?   \n",
       "\n",
       "                                           question2  is_duplicate  \\\n",
       "0                 How do I play Pokémon GO in China?             0   \n",
       "1  What are some good side dishes for buffalo chi...             0   \n",
       "2      What is the best server setup for buddypress?             0   \n",
       "3  How can I improve my logical skills for progra...             1   \n",
       "4                      How close is a World War III?             1   \n",
       "\n",
       "   question1_wc  question2_wc  q1_q2_diff  \\\n",
       "0             8             8           0   \n",
       "1            11             9           2   \n",
       "2            16             8           8   \n",
       "3             7             9          -2   \n",
       "4             9             7           2   \n",
       "\n",
       "                                   question1_cleaned  \\\n",
       "0                              play pokémon go korea   \n",
       "1                           best side dish crab cake   \n",
       "2  advis better materi crash test automobil ducti...   \n",
       "3                         improv logic program skill   \n",
       "4                                close see world war   \n",
       "\n",
       "                question2_cleaned  \n",
       "0           play pokémon go china  \n",
       "1  good side dish buffalo chicken  \n",
       "2    best server setup buddypress  \n",
       "3      improv logic skill program  \n",
       "4             close world war iii  "
      ]
     },
     "execution_count": 32,
     "metadata": {},
     "output_type": "execute_result"
    }
   ],
   "source": [
    "df.head()"
   ]
  },
  {
   "cell_type": "code",
   "execution_count": 33,
   "id": "fcaa1e70",
   "metadata": {},
   "outputs": [
    {
     "data": {
      "text/html": [
       "<div>\n",
       "<style scoped>\n",
       "    .dataframe tbody tr th:only-of-type {\n",
       "        vertical-align: middle;\n",
       "    }\n",
       "\n",
       "    .dataframe tbody tr th {\n",
       "        vertical-align: top;\n",
       "    }\n",
       "\n",
       "    .dataframe thead th {\n",
       "        text-align: right;\n",
       "    }\n",
       "</style>\n",
       "<table border=\"1\" class=\"dataframe\">\n",
       "  <thead>\n",
       "    <tr style=\"text-align: right;\">\n",
       "      <th></th>\n",
       "      <th>question1_cleaned</th>\n",
       "      <th>question2_cleaned</th>\n",
       "    </tr>\n",
       "  </thead>\n",
       "  <tbody>\n",
       "    <tr>\n",
       "      <th>0</th>\n",
       "      <td>play pokémon go korea</td>\n",
       "      <td>play pokémon go china</td>\n",
       "    </tr>\n",
       "    <tr>\n",
       "      <th>1</th>\n",
       "      <td>best side dish crab cake</td>\n",
       "      <td>good side dish buffalo chicken</td>\n",
       "    </tr>\n",
       "    <tr>\n",
       "      <th>2</th>\n",
       "      <td>advis better materi crash test automobil ducti...</td>\n",
       "      <td>best server setup buddypress</td>\n",
       "    </tr>\n",
       "    <tr>\n",
       "      <th>3</th>\n",
       "      <td>improv logic program skill</td>\n",
       "      <td>improv logic skill program</td>\n",
       "    </tr>\n",
       "    <tr>\n",
       "      <th>4</th>\n",
       "      <td>close see world war</td>\n",
       "      <td>close world war iii</td>\n",
       "    </tr>\n",
       "  </tbody>\n",
       "</table>\n",
       "</div>"
      ],
      "text/plain": [
       "                                   question1_cleaned  \\\n",
       "0                              play pokémon go korea   \n",
       "1                           best side dish crab cake   \n",
       "2  advis better materi crash test automobil ducti...   \n",
       "3                         improv logic program skill   \n",
       "4                                close see world war   \n",
       "\n",
       "                question2_cleaned  \n",
       "0           play pokémon go china  \n",
       "1  good side dish buffalo chicken  \n",
       "2    best server setup buddypress  \n",
       "3      improv logic skill program  \n",
       "4             close world war iii  "
      ]
     },
     "execution_count": 33,
     "metadata": {},
     "output_type": "execute_result"
    }
   ],
   "source": [
    "df[['question1_cleaned','question2_cleaned']].head()"
   ]
  },
  {
   "cell_type": "markdown",
   "id": "8fda696e",
   "metadata": {},
   "source": [
    "Getting the word counts of the cleaned questions"
   ]
  },
  {
   "cell_type": "code",
   "execution_count": 34,
   "id": "d8b5136e",
   "metadata": {},
   "outputs": [],
   "source": [
    "df[\"question1_cleaned_wc\"] = df[\"question1_cleaned\"].apply(lambda x: len(x.split(' ')))\n",
    "df[\"question2_cleaned_wc\"] = df[\"question2_cleaned\"].apply(lambda x: len(x.split(' ')))"
   ]
  },
  {
   "cell_type": "code",
   "execution_count": 35,
   "id": "04bab27e",
   "metadata": {},
   "outputs": [
    {
     "data": {
      "text/html": [
       "<div>\n",
       "<style scoped>\n",
       "    .dataframe tbody tr th:only-of-type {\n",
       "        vertical-align: middle;\n",
       "    }\n",
       "\n",
       "    .dataframe tbody tr th {\n",
       "        vertical-align: top;\n",
       "    }\n",
       "\n",
       "    .dataframe thead th {\n",
       "        text-align: right;\n",
       "    }\n",
       "</style>\n",
       "<table border=\"1\" class=\"dataframe\">\n",
       "  <thead>\n",
       "    <tr style=\"text-align: right;\">\n",
       "      <th></th>\n",
       "      <th>question1_cleaned</th>\n",
       "      <th>question2_cleaned</th>\n",
       "      <th>question1_cleaned_wc</th>\n",
       "      <th>question2_cleaned_wc</th>\n",
       "      <th>is_duplicate</th>\n",
       "    </tr>\n",
       "  </thead>\n",
       "  <tbody>\n",
       "    <tr>\n",
       "      <th>0</th>\n",
       "      <td>play pokémon go korea</td>\n",
       "      <td>play pokémon go china</td>\n",
       "      <td>4</td>\n",
       "      <td>4</td>\n",
       "      <td>0</td>\n",
       "    </tr>\n",
       "    <tr>\n",
       "      <th>1</th>\n",
       "      <td>best side dish crab cake</td>\n",
       "      <td>good side dish buffalo chicken</td>\n",
       "      <td>5</td>\n",
       "      <td>5</td>\n",
       "      <td>0</td>\n",
       "    </tr>\n",
       "    <tr>\n",
       "      <th>2</th>\n",
       "      <td>advis better materi crash test automobil ducti...</td>\n",
       "      <td>best server setup buddypress</td>\n",
       "      <td>8</td>\n",
       "      <td>4</td>\n",
       "      <td>0</td>\n",
       "    </tr>\n",
       "    <tr>\n",
       "      <th>3</th>\n",
       "      <td>improv logic program skill</td>\n",
       "      <td>improv logic skill program</td>\n",
       "      <td>4</td>\n",
       "      <td>4</td>\n",
       "      <td>1</td>\n",
       "    </tr>\n",
       "    <tr>\n",
       "      <th>4</th>\n",
       "      <td>close see world war</td>\n",
       "      <td>close world war iii</td>\n",
       "      <td>4</td>\n",
       "      <td>4</td>\n",
       "      <td>1</td>\n",
       "    </tr>\n",
       "  </tbody>\n",
       "</table>\n",
       "</div>"
      ],
      "text/plain": [
       "                                   question1_cleaned  \\\n",
       "0                              play pokémon go korea   \n",
       "1                           best side dish crab cake   \n",
       "2  advis better materi crash test automobil ducti...   \n",
       "3                         improv logic program skill   \n",
       "4                                close see world war   \n",
       "\n",
       "                question2_cleaned  question1_cleaned_wc  question2_cleaned_wc  \\\n",
       "0           play pokémon go china                     4                     4   \n",
       "1  good side dish buffalo chicken                     5                     5   \n",
       "2    best server setup buddypress                     8                     4   \n",
       "3      improv logic skill program                     4                     4   \n",
       "4             close world war iii                     4                     4   \n",
       "\n",
       "   is_duplicate  \n",
       "0             0  \n",
       "1             0  \n",
       "2             0  \n",
       "3             1  \n",
       "4             1  "
      ]
     },
     "execution_count": 35,
     "metadata": {},
     "output_type": "execute_result"
    }
   ],
   "source": [
    "df[['question1_cleaned','question2_cleaned','question1_cleaned_wc','question2_cleaned_wc','is_duplicate']].head()"
   ]
  },
  {
   "cell_type": "markdown",
   "id": "3892c318",
   "metadata": {},
   "source": [
    "Looking at the word count differences"
   ]
  },
  {
   "cell_type": "code",
   "execution_count": 36,
   "id": "1ef63d41",
   "metadata": {},
   "outputs": [
    {
     "data": {
      "image/png": "[encoded data removed]",
      "text/plain": [
       "<Figure size 720x720 with 4 Axes>"
      ]
     },
     "metadata": {
      "needs_background": "light"
     },
     "output_type": "display_data"
    }
   ],
   "source": [
    "fig, axes = plt.subplots(2,2, figsize=(10,10))\n",
    "num_range = 20\n",
    "x = np.arange(0, num_range)\n",
    "alpha = 0.15\n",
    "\n",
    "plt.sca(axes[0,0])\n",
    "y1 = df[df['is_duplicate']==0]['question1_cleaned_wc'].value_counts().sort_index().values[:num_range]\n",
    "y2 = df[df['is_duplicate']==0]['question2_cleaned_wc'].value_counts().sort_index().values[:num_range]\n",
    "plt.fill_between(x, y1, alpha=alpha)\n",
    "plt.fill_between(x, y2, alpha=alpha)\n",
    "plt.plot(x, y1, label='Question 1 Word Count')\n",
    "plt.plot(x, y2, label='Question 2 Word Count')\n",
    "plt.title('Word Counts of Question 1 and 2\\nWhen the question is not a duplicate')\n",
    "plt.legend()\n",
    "\n",
    "plt.sca(axes[0,1])\n",
    "y1 = df[df['is_duplicate']==0]['question1_cleaned_wc'].value_counts().sort_index().values[:num_range]\n",
    "y2 = df[df['is_duplicate']==1]['question1_cleaned_wc'].value_counts().sort_index().values[:num_range]\n",
    "plt.fill_between(x, y1, alpha=alpha)\n",
    "plt.fill_between(x, y2, alpha=alpha)\n",
    "plt.plot(x, y1, label='Duplicate Word Count')\n",
    "plt.plot(x, y2, label='Not uplicate Word Count')\n",
    "plt.title('Word Counts of Question 1')\n",
    "plt.legend()\n",
    "\n",
    "plt.sca(axes[1,0])\n",
    "y1 = df[df['is_duplicate']==0]['question2_cleaned_wc'].value_counts().sort_index().values[:num_range]\n",
    "y2 = df[df['is_duplicate']==1]['question2_cleaned_wc'].value_counts().sort_index().values[:num_range]\n",
    "plt.fill_between(x, y1, alpha=alpha)\n",
    "plt.fill_between(x, y2, alpha=alpha)\n",
    "plt.plot(x, y1, label='Duplicate Word Count')\n",
    "plt.plot(x, y2, label='Not uplicate Word Count')\n",
    "plt.title('Word Counts of Question 2')\n",
    "plt.legend()\n",
    "\n",
    "plt.sca(axes[1,1])\n",
    "y1 = df[df['is_duplicate']==1]['question1_cleaned_wc'].value_counts().sort_index().values[:num_range]\n",
    "y2 = df[df['is_duplicate']==1]['question2_cleaned_wc'].value_counts().sort_index().values[:num_range]\n",
    "plt.fill_between(x, y1, alpha=alpha)\n",
    "plt.fill_between(x, y2, alpha=alpha)\n",
    "plt.plot(x, y1, label='Question 1 Word Count')\n",
    "plt.plot(x, y2, label='Question 2 Word Count')\n",
    "plt.title('Word Counts of Question 1 and 2\\nWhen the question is a duplicate')\n",
    "plt.legend()\n",
    "\n",
    "fig.suptitle('Word Counts of Question 1 and 2 (cleaned)', fontsize=30)\n",
    "fig.tight_layout();"
   ]
  },
  {
   "cell_type": "markdown",
   "id": "a493fe51",
   "metadata": {},
   "source": [
    "**Get the difference in word counts from the cleaned responses**"
   ]
  },
  {
   "cell_type": "code",
   "execution_count": 37,
   "id": "10420cf2",
   "metadata": {},
   "outputs": [
    {
     "data": {
      "text/html": [
       "<div>\n",
       "<style scoped>\n",
       "    .dataframe tbody tr th:only-of-type {\n",
       "        vertical-align: middle;\n",
       "    }\n",
       "\n",
       "    .dataframe tbody tr th {\n",
       "        vertical-align: top;\n",
       "    }\n",
       "\n",
       "    .dataframe thead th {\n",
       "        text-align: right;\n",
       "    }\n",
       "</style>\n",
       "<table border=\"1\" class=\"dataframe\">\n",
       "  <thead>\n",
       "    <tr style=\"text-align: right;\">\n",
       "      <th></th>\n",
       "      <th>question1_cleaned</th>\n",
       "      <th>question2_cleaned</th>\n",
       "      <th>question1_cleaned_wc</th>\n",
       "      <th>question2_cleaned_wc</th>\n",
       "      <th>is_duplicate</th>\n",
       "      <th>q1_q2_diff_cleaned</th>\n",
       "    </tr>\n",
       "  </thead>\n",
       "  <tbody>\n",
       "    <tr>\n",
       "      <th>0</th>\n",
       "      <td>play pokémon go korea</td>\n",
       "      <td>play pokémon go china</td>\n",
       "      <td>4</td>\n",
       "      <td>4</td>\n",
       "      <td>0</td>\n",
       "      <td>0</td>\n",
       "    </tr>\n",
       "    <tr>\n",
       "      <th>1</th>\n",
       "      <td>best side dish crab cake</td>\n",
       "      <td>good side dish buffalo chicken</td>\n",
       "      <td>5</td>\n",
       "      <td>5</td>\n",
       "      <td>0</td>\n",
       "      <td>0</td>\n",
       "    </tr>\n",
       "    <tr>\n",
       "      <th>2</th>\n",
       "      <td>advis better materi crash test automobil ducti...</td>\n",
       "      <td>best server setup buddypress</td>\n",
       "      <td>8</td>\n",
       "      <td>4</td>\n",
       "      <td>0</td>\n",
       "      <td>4</td>\n",
       "    </tr>\n",
       "    <tr>\n",
       "      <th>3</th>\n",
       "      <td>improv logic program skill</td>\n",
       "      <td>improv logic skill program</td>\n",
       "      <td>4</td>\n",
       "      <td>4</td>\n",
       "      <td>1</td>\n",
       "      <td>0</td>\n",
       "    </tr>\n",
       "    <tr>\n",
       "      <th>4</th>\n",
       "      <td>close see world war</td>\n",
       "      <td>close world war iii</td>\n",
       "      <td>4</td>\n",
       "      <td>4</td>\n",
       "      <td>1</td>\n",
       "      <td>0</td>\n",
       "    </tr>\n",
       "  </tbody>\n",
       "</table>\n",
       "</div>"
      ],
      "text/plain": [
       "                                   question1_cleaned  \\\n",
       "0                              play pokémon go korea   \n",
       "1                           best side dish crab cake   \n",
       "2  advis better materi crash test automobil ducti...   \n",
       "3                         improv logic program skill   \n",
       "4                                close see world war   \n",
       "\n",
       "                question2_cleaned  question1_cleaned_wc  question2_cleaned_wc  \\\n",
       "0           play pokémon go china                     4                     4   \n",
       "1  good side dish buffalo chicken                     5                     5   \n",
       "2    best server setup buddypress                     8                     4   \n",
       "3      improv logic skill program                     4                     4   \n",
       "4             close world war iii                     4                     4   \n",
       "\n",
       "   is_duplicate  q1_q2_diff_cleaned  \n",
       "0             0                   0  \n",
       "1             0                   0  \n",
       "2             0                   4  \n",
       "3             1                   0  \n",
       "4             1                   0  "
      ]
     },
     "execution_count": 37,
     "metadata": {},
     "output_type": "execute_result"
    }
   ],
   "source": [
    "df['q1_q2_diff_cleaned'] = df['question1_cleaned_wc'] - df['question2_cleaned_wc']\n",
    "df[['question1_cleaned','question2_cleaned','question1_cleaned_wc','question2_cleaned_wc','is_duplicate','q1_q2_diff_cleaned']].head()"
   ]
  },
  {
   "cell_type": "code",
   "execution_count": 38,
   "id": "e35ac960",
   "metadata": {},
   "outputs": [
    {
     "data": {
      "image/png": "[encoded data removed]",
      "text/plain": [
       "<Figure size 720x360 with 2 Axes>"
      ]
     },
     "metadata": {
      "needs_background": "light"
     },
     "output_type": "display_data"
    }
   ],
   "source": [
    "fig, axes = plt.subplots(1, 2, figsize=(10,5))\n",
    "\n",
    "plt.sca(axes[0])\n",
    "x = np.arange(-30,30)\n",
    "y = df['q1_q2_diff_cleaned'].value_counts().sort_index().values[:x.shape[0]]\n",
    "plt.bar(x, y)\n",
    "plt.xlim(-50,50)\n",
    "plt.axvline(x=0, color='orange')\n",
    "plt.title(f\"Differences in word count between\\nquestion 1 and 2\")\n",
    "plt.xlabel('Word count difference\\nbetween question 1 and question 2')\n",
    "\n",
    "plt.sca(axes[1])\n",
    "df['q1_q2_diff_cleaned'].plot.box()\n",
    "plt.ylim(-50,50)\n",
    "plt.title('Box plot of differences in word count\\nbetween question 1 and 2')\n",
    "plt.xticks([]) # Getting rid of the x label \n",
    "plt.xlabel('Word count difference\\nbetween question 1 and question 2')\n",
    "plt.legend(['Mean: ' + str(df['q1_q2_diff'].describe().loc['mean'].round(4)) + '\\n' +\n",
    "            'Std: ' + str(df['q1_q2_diff'].describe().loc['std'].round(4)) + '\\n' +\n",
    "            'Min: ' + str(df['q1_q2_diff'].describe().loc['min'].round(4)) + '\\n' +\n",
    "            '25%: ' + str(df['q1_q2_diff'].describe().loc['25%'].round(4)) + '\\n' +\n",
    "            '50%: ' + str(df['q1_q2_diff'].describe().loc['50%'].round(4)) + '\\n' +\n",
    "            '75%: ' + str(df['q1_q2_diff'].describe().loc['75%'].round(4)) + '\\n' +\n",
    "            'Max: ' + str(df['q1_q2_diff'].describe().loc['max'].round(4))])\n",
    "\n",
    "fig.tight_layout();"
   ]
  },
  {
   "cell_type": "markdown",
   "id": "29841309",
   "metadata": {},
   "source": [
    "**Generating the embeddings for the cleaned questions**"
   ]
  },
  {
   "cell_type": "code",
   "execution_count": 39,
   "id": "c7b53995",
   "metadata": {},
   "outputs": [],
   "source": [
    "# q1_embeddings_list = []\n",
    "# q2_embeddings_list = []\n",
    "\n",
    "# for i in tqdm(range(df.shape[0])):\n",
    "#     q1 = df.at[i, 'question1_cleaned']\n",
    "#     q2 = df.at[i, 'question2_cleaned']\n",
    "#     embeddings = bert_model.encode([q1, q2])\n",
    "#     q1_embeddings_list.append(embeddings[0])\n",
    "#     q2_embeddings_list.append(embeddings[1])\n",
    "\n",
    "# ## Saving the embeddings as a dataframe with the labels ###\n",
    "\n",
    "# pd.DataFrame(np.hstack((q1_embeddings_list, \n",
    "#                         q2_embeddings_list, \n",
    "#                         df['is_duplicate'].values.reshape(-1,1)))).to_csv('quora_cleaned_embeddings.csv', index=False)"
   ]
  },
  {
   "cell_type": "code",
   "execution_count": 40,
   "id": "fb1c5709",
   "metadata": {},
   "outputs": [
    {
     "data": {
      "text/html": [
       "<div>\n",
       "<style scoped>\n",
       "    .dataframe tbody tr th:only-of-type {\n",
       "        vertical-align: middle;\n",
       "    }\n",
       "\n",
       "    .dataframe tbody tr th {\n",
       "        vertical-align: top;\n",
       "    }\n",
       "\n",
       "    .dataframe thead th {\n",
       "        text-align: right;\n",
       "    }\n",
       "</style>\n",
       "<table border=\"1\" class=\"dataframe\">\n",
       "  <thead>\n",
       "    <tr style=\"text-align: right;\">\n",
       "      <th></th>\n",
       "      <th>0</th>\n",
       "      <th>1</th>\n",
       "      <th>2</th>\n",
       "      <th>3</th>\n",
       "      <th>4</th>\n",
       "      <th>5</th>\n",
       "      <th>6</th>\n",
       "      <th>7</th>\n",
       "      <th>8</th>\n",
       "      <th>9</th>\n",
       "      <th>...</th>\n",
       "      <th>2039</th>\n",
       "      <th>2040</th>\n",
       "      <th>2041</th>\n",
       "      <th>2042</th>\n",
       "      <th>2043</th>\n",
       "      <th>2044</th>\n",
       "      <th>2045</th>\n",
       "      <th>2046</th>\n",
       "      <th>2047</th>\n",
       "      <th>2048</th>\n",
       "    </tr>\n",
       "  </thead>\n",
       "  <tbody>\n",
       "    <tr>\n",
       "      <th>0</th>\n",
       "      <td>0.099863</td>\n",
       "      <td>0.804212</td>\n",
       "      <td>0.457976</td>\n",
       "      <td>1.360421</td>\n",
       "      <td>-0.439485</td>\n",
       "      <td>-0.542794</td>\n",
       "      <td>0.622026</td>\n",
       "      <td>-0.005323</td>\n",
       "      <td>0.216617</td>\n",
       "      <td>0.420137</td>\n",
       "      <td>...</td>\n",
       "      <td>0.198325</td>\n",
       "      <td>-0.638950</td>\n",
       "      <td>-0.256670</td>\n",
       "      <td>-0.147607</td>\n",
       "      <td>0.427118</td>\n",
       "      <td>0.315945</td>\n",
       "      <td>-0.052933</td>\n",
       "      <td>-0.446774</td>\n",
       "      <td>-0.929896</td>\n",
       "      <td>0.0</td>\n",
       "    </tr>\n",
       "    <tr>\n",
       "      <th>1</th>\n",
       "      <td>0.579055</td>\n",
       "      <td>-0.467236</td>\n",
       "      <td>-0.014480</td>\n",
       "      <td>0.050153</td>\n",
       "      <td>-0.338045</td>\n",
       "      <td>0.431639</td>\n",
       "      <td>-0.103256</td>\n",
       "      <td>0.700369</td>\n",
       "      <td>1.370580</td>\n",
       "      <td>-0.389891</td>\n",
       "      <td>...</td>\n",
       "      <td>-0.860721</td>\n",
       "      <td>-0.555505</td>\n",
       "      <td>-1.613838</td>\n",
       "      <td>-0.139364</td>\n",
       "      <td>0.284707</td>\n",
       "      <td>-0.446280</td>\n",
       "      <td>0.189698</td>\n",
       "      <td>-0.195710</td>\n",
       "      <td>-0.583254</td>\n",
       "      <td>0.0</td>\n",
       "    </tr>\n",
       "    <tr>\n",
       "      <th>2</th>\n",
       "      <td>0.295399</td>\n",
       "      <td>-0.071162</td>\n",
       "      <td>0.662856</td>\n",
       "      <td>0.133914</td>\n",
       "      <td>-0.059055</td>\n",
       "      <td>0.359554</td>\n",
       "      <td>-0.350415</td>\n",
       "      <td>-0.725764</td>\n",
       "      <td>0.231294</td>\n",
       "      <td>0.224926</td>\n",
       "      <td>...</td>\n",
       "      <td>-0.308801</td>\n",
       "      <td>-0.583140</td>\n",
       "      <td>-1.033460</td>\n",
       "      <td>0.000881</td>\n",
       "      <td>-0.071482</td>\n",
       "      <td>-0.163930</td>\n",
       "      <td>-0.425215</td>\n",
       "      <td>0.229150</td>\n",
       "      <td>-0.357686</td>\n",
       "      <td>0.0</td>\n",
       "    </tr>\n",
       "    <tr>\n",
       "      <th>3</th>\n",
       "      <td>-0.179769</td>\n",
       "      <td>-0.170566</td>\n",
       "      <td>0.261266</td>\n",
       "      <td>-0.477791</td>\n",
       "      <td>-0.310139</td>\n",
       "      <td>0.050823</td>\n",
       "      <td>-0.390488</td>\n",
       "      <td>-0.373177</td>\n",
       "      <td>-0.800839</td>\n",
       "      <td>0.782366</td>\n",
       "      <td>...</td>\n",
       "      <td>-1.031234</td>\n",
       "      <td>-0.424010</td>\n",
       "      <td>-1.140022</td>\n",
       "      <td>-0.059757</td>\n",
       "      <td>0.505181</td>\n",
       "      <td>0.662573</td>\n",
       "      <td>0.303810</td>\n",
       "      <td>-0.766564</td>\n",
       "      <td>0.073204</td>\n",
       "      <td>1.0</td>\n",
       "    </tr>\n",
       "    <tr>\n",
       "      <th>4</th>\n",
       "      <td>0.013538</td>\n",
       "      <td>0.066066</td>\n",
       "      <td>1.023784</td>\n",
       "      <td>0.517954</td>\n",
       "      <td>0.606080</td>\n",
       "      <td>0.089296</td>\n",
       "      <td>0.049157</td>\n",
       "      <td>-0.592669</td>\n",
       "      <td>-0.022250</td>\n",
       "      <td>0.444191</td>\n",
       "      <td>...</td>\n",
       "      <td>0.170532</td>\n",
       "      <td>-1.291750</td>\n",
       "      <td>0.085144</td>\n",
       "      <td>-0.049792</td>\n",
       "      <td>-0.246931</td>\n",
       "      <td>0.490173</td>\n",
       "      <td>0.197307</td>\n",
       "      <td>-0.669707</td>\n",
       "      <td>-0.590559</td>\n",
       "      <td>1.0</td>\n",
       "    </tr>\n",
       "  </tbody>\n",
       "</table>\n",
       "<p>5 rows × 2049 columns</p>\n",
       "</div>"
      ],
      "text/plain": [
       "          0         1         2         3         4         5         6  \\\n",
       "0  0.099863  0.804212  0.457976  1.360421 -0.439485 -0.542794  0.622026   \n",
       "1  0.579055 -0.467236 -0.014480  0.050153 -0.338045  0.431639 -0.103256   \n",
       "2  0.295399 -0.071162  0.662856  0.133914 -0.059055  0.359554 -0.350415   \n",
       "3 -0.179769 -0.170566  0.261266 -0.477791 -0.310139  0.050823 -0.390488   \n",
       "4  0.013538  0.066066  1.023784  0.517954  0.606080  0.089296  0.049157   \n",
       "\n",
       "          7         8         9  ...      2039      2040      2041      2042  \\\n",
       "0 -0.005323  0.216617  0.420137  ...  0.198325 -0.638950 -0.256670 -0.147607   \n",
       "1  0.700369  1.370580 -0.389891  ... -0.860721 -0.555505 -1.613838 -0.139364   \n",
       "2 -0.725764  0.231294  0.224926  ... -0.308801 -0.583140 -1.033460  0.000881   \n",
       "3 -0.373177 -0.800839  0.782366  ... -1.031234 -0.424010 -1.140022 -0.059757   \n",
       "4 -0.592669 -0.022250  0.444191  ...  0.170532 -1.291750  0.085144 -0.049792   \n",
       "\n",
       "       2043      2044      2045      2046      2047  2048  \n",
       "0  0.427118  0.315945 -0.052933 -0.446774 -0.929896   0.0  \n",
       "1  0.284707 -0.446280  0.189698 -0.195710 -0.583254   0.0  \n",
       "2 -0.071482 -0.163930 -0.425215  0.229150 -0.357686   0.0  \n",
       "3  0.505181  0.662573  0.303810 -0.766564  0.073204   1.0  \n",
       "4 -0.246931  0.490173  0.197307 -0.669707 -0.590559   1.0  \n",
       "\n",
       "[5 rows x 2049 columns]"
      ]
     },
     "execution_count": 40,
     "metadata": {},
     "output_type": "execute_result"
    }
   ],
   "source": [
    "df_cleaned_embeddings = pd.read_csv('./quora_cleaned_embeddings.csv')\n",
    "df_cleaned_embeddings.head()"
   ]
  },
  {
   "cell_type": "markdown",
   "id": "22cc33e1",
   "metadata": {},
   "source": [
    "**Taking a look at the questions and their labels with cosine similarities**"
   ]
  },
  {
   "cell_type": "code",
   "execution_count": 41,
   "id": "ab3263bb",
   "metadata": {},
   "outputs": [
    {
     "name": "stdout",
     "output_type": "stream",
     "text": [
      "play pokémon go korea\n",
      "play pokémon go china\n",
      "Not Duplicate\n",
      "0.7423173189163208\n"
     ]
    }
   ],
   "source": [
    "index = 0\n",
    "q1 = df.at[index, 'question1_cleaned']\n",
    "q2 = df.at[index, 'question2_cleaned']\n",
    "is_dup = df.at[index, 'is_duplicate']\n",
    "embeddings = bert_model.encode([q1, q2])\n",
    "print(q1, q2, sep='\\n')\n",
    "print('Duplicate') if is_dup else print('Not Duplicate')\n",
    "print(float(util.pytorch_cos_sim(embeddings[0], embeddings[1])[0][0]))"
   ]
  },
  {
   "cell_type": "code",
   "execution_count": 42,
   "id": "b655b0a7",
   "metadata": {},
   "outputs": [
    {
     "name": "stdout",
     "output_type": "stream",
     "text": [
      "best side dish crab cake\n",
      "good side dish buffalo chicken\n",
      "Not Duplicate\n",
      "0.5670937895774841\n"
     ]
    }
   ],
   "source": [
    "index = 1\n",
    "q1 = df.at[index, 'question1_cleaned']\n",
    "q2 = df.at[index, 'question2_cleaned']\n",
    "is_dup = df.at[index, 'is_duplicate']\n",
    "embeddings = bert_model.encode([q1, q2])\n",
    "print(q1, q2, sep='\\n')\n",
    "print('Duplicate') if is_dup else print('Not Duplicate')\n",
    "print(float(util.pytorch_cos_sim(embeddings[0], embeddings[1])[0][0]))"
   ]
  },
  {
   "cell_type": "code",
   "execution_count": 43,
   "id": "e075a95b",
   "metadata": {},
   "outputs": [
    {
     "name": "stdout",
     "output_type": "stream",
     "text": [
      "improv logic program skill\n",
      "best way improv logic skill program\n",
      "Duplicate\n",
      "0.8393554091453552\n"
     ]
    }
   ],
   "source": [
    "index = 9\n",
    "q1 = df.at[index, 'question1_cleaned']\n",
    "q2 = df.at[index, 'question2_cleaned']\n",
    "is_dup = df.at[index, 'is_duplicate']\n",
    "embeddings = bert_model.encode([q1, q2])\n",
    "print(q1, q2, sep='\\n')\n",
    "print('Duplicate') if is_dup else print('Not Duplicate')\n",
    "print(float(util.pytorch_cos_sim(embeddings[0], embeddings[1])[0][0]))"
   ]
  },
  {
   "cell_type": "markdown",
   "id": "c4883a0f",
   "metadata": {},
   "source": [
    "**Generating the cosine similarities and euclidean distance from embeddings**"
   ]
  },
  {
   "cell_type": "code",
   "execution_count": 44,
   "id": "6389612a",
   "metadata": {},
   "outputs": [],
   "source": [
    "# cs_list = []\n",
    "# distance_list = []\n",
    "\n",
    "# for i in tqdm(range(df.shape[0])):\n",
    "#     ### Cosine Similarity\n",
    "#     cs_list.append(float(util.pytorch_cos_sim(df_cleaned_embeddings.iloc[i][:1024], df_cleaned_embeddings.iloc[i][1024:2048])[0][0]))\n",
    "#     ### Distance\n",
    "#     distance_list.append(np.linalg.norm(np.array(df_cleaned_embeddings.iloc[i][:1024]) - np.array(df_cleaned_embeddings.iloc[i][1024:2048])))\n",
    "    \n",
    "# ## Saving the distances as a dataframe with the labels ###\n",
    "    \n",
    "# pd.DataFrame(np.hstack((np.array(cs_list).reshape(-1,1),\n",
    "#                         np.array(distance_list).reshape(-1,1), \n",
    "#                         df['is_duplicate'].values.reshape(-1,1)))).to_csv('quora_cleaned_cosine_distance.csv', index=False)\n",
    "\n",
    "# df_cleaned_cos_dist = pd.read_csv('quora_cleaned_cosine_distance.csv')\n",
    "# df_cleaned_cos_dist.rename(columns={'0':'Cosine Similarity', '1':'Distance', '2':'is_duplicate'}, inplace=True)\n",
    "# df_cleaned_cos_dist.to_csv('quora_cleaned_cosine_distance.csv', index=False)"
   ]
  },
  {
   "cell_type": "code",
   "execution_count": 45,
   "id": "e094cf96",
   "metadata": {},
   "outputs": [
    {
     "data": {
      "text/html": [
       "<div>\n",
       "<style scoped>\n",
       "    .dataframe tbody tr th:only-of-type {\n",
       "        vertical-align: middle;\n",
       "    }\n",
       "\n",
       "    .dataframe tbody tr th {\n",
       "        vertical-align: top;\n",
       "    }\n",
       "\n",
       "    .dataframe thead th {\n",
       "        text-align: right;\n",
       "    }\n",
       "</style>\n",
       "<table border=\"1\" class=\"dataframe\">\n",
       "  <thead>\n",
       "    <tr style=\"text-align: right;\">\n",
       "      <th></th>\n",
       "      <th>Cosine Similarity</th>\n",
       "      <th>Distance</th>\n",
       "      <th>is_duplicate</th>\n",
       "    </tr>\n",
       "  </thead>\n",
       "  <tbody>\n",
       "    <tr>\n",
       "      <th>0</th>\n",
       "      <td>0.742317</td>\n",
       "      <td>14.112444</td>\n",
       "      <td>0.0</td>\n",
       "    </tr>\n",
       "    <tr>\n",
       "      <th>1</th>\n",
       "      <td>0.567094</td>\n",
       "      <td>19.397882</td>\n",
       "      <td>0.0</td>\n",
       "    </tr>\n",
       "    <tr>\n",
       "      <th>2</th>\n",
       "      <td>0.328242</td>\n",
       "      <td>21.186270</td>\n",
       "      <td>0.0</td>\n",
       "    </tr>\n",
       "    <tr>\n",
       "      <th>3</th>\n",
       "      <td>0.975745</td>\n",
       "      <td>4.006721</td>\n",
       "      <td>1.0</td>\n",
       "    </tr>\n",
       "    <tr>\n",
       "      <th>4</th>\n",
       "      <td>0.808538</td>\n",
       "      <td>12.107285</td>\n",
       "      <td>1.0</td>\n",
       "    </tr>\n",
       "    <tr>\n",
       "      <th>...</th>\n",
       "      <td>...</td>\n",
       "      <td>...</td>\n",
       "      <td>...</td>\n",
       "    </tr>\n",
       "    <tr>\n",
       "      <th>99995</th>\n",
       "      <td>1.000000</td>\n",
       "      <td>0.000000</td>\n",
       "      <td>1.0</td>\n",
       "    </tr>\n",
       "    <tr>\n",
       "      <th>99996</th>\n",
       "      <td>0.494611</td>\n",
       "      <td>19.071208</td>\n",
       "      <td>0.0</td>\n",
       "    </tr>\n",
       "    <tr>\n",
       "      <th>99997</th>\n",
       "      <td>0.911330</td>\n",
       "      <td>7.992453</td>\n",
       "      <td>1.0</td>\n",
       "    </tr>\n",
       "    <tr>\n",
       "      <th>99998</th>\n",
       "      <td>0.488034</td>\n",
       "      <td>19.409292</td>\n",
       "      <td>0.0</td>\n",
       "    </tr>\n",
       "    <tr>\n",
       "      <th>99999</th>\n",
       "      <td>1.000000</td>\n",
       "      <td>0.000000</td>\n",
       "      <td>1.0</td>\n",
       "    </tr>\n",
       "  </tbody>\n",
       "</table>\n",
       "<p>100000 rows × 3 columns</p>\n",
       "</div>"
      ],
      "text/plain": [
       "       Cosine Similarity   Distance  is_duplicate\n",
       "0               0.742317  14.112444           0.0\n",
       "1               0.567094  19.397882           0.0\n",
       "2               0.328242  21.186270           0.0\n",
       "3               0.975745   4.006721           1.0\n",
       "4               0.808538  12.107285           1.0\n",
       "...                  ...        ...           ...\n",
       "99995           1.000000   0.000000           1.0\n",
       "99996           0.494611  19.071208           0.0\n",
       "99997           0.911330   7.992453           1.0\n",
       "99998           0.488034  19.409292           0.0\n",
       "99999           1.000000   0.000000           1.0\n",
       "\n",
       "[100000 rows x 3 columns]"
      ]
     },
     "execution_count": 45,
     "metadata": {},
     "output_type": "execute_result"
    }
   ],
   "source": [
    "df_cleaned_cos_dist = pd.read_csv('quora_cleaned_cosine_distance.csv')\n",
    "df_cleaned_cos_dist"
   ]
  },
  {
   "cell_type": "markdown",
   "id": "1d26a988",
   "metadata": {},
   "source": [
    "**Looking at the cosine simialrities and distances between duplicate and non duplicate questions**"
   ]
  },
  {
   "cell_type": "code",
   "execution_count": 46,
   "id": "adf2c6da",
   "metadata": {},
   "outputs": [
    {
     "data": {
      "image/png": "[encoded data removed]",
      "text/plain": [
       "<Figure size 720x360 with 2 Axes>"
      ]
     },
     "metadata": {
      "needs_background": "light"
     },
     "output_type": "display_data"
    }
   ],
   "source": [
    "fig, axes = plt.subplots(1,2, sharex=True, sharey=True, figsize=(10,5))\n",
    "\n",
    "sns.histplot(df_cleaned_cos_dist['Cosine Similarity'][df_cleaned_cos_dist['is_duplicate'] == 0], ax=axes[0])\n",
    "plt.sca(axes[0])\n",
    "plt.title('Not Duplicate')\n",
    "sns.histplot(df_cleaned_cos_dist['Cosine Similarity'][df_cleaned_cos_dist['is_duplicate'] == 1], ax=axes[1])\n",
    "plt.sca(axes[1])\n",
    "plt.title('Duplicate')\n",
    "fig.suptitle('Distribution of Cosine Similarity Scores\\nfor each Label', fontsize=20)\n",
    "fig.tight_layout();"
   ]
  },
  {
   "cell_type": "code",
   "execution_count": 47,
   "id": "10cb37d6",
   "metadata": {},
   "outputs": [
    {
     "data": {
      "image/png": "[encoded data removed]",
      "text/plain": [
       "<Figure size 720x360 with 2 Axes>"
      ]
     },
     "metadata": {
      "needs_background": "light"
     },
     "output_type": "display_data"
    }
   ],
   "source": [
    "fig, axes = plt.subplots(1,2, sharex=True, sharey=True, figsize=(10,5))\n",
    "\n",
    "sns.histplot(df_cleaned_cos_dist['Distance'][df_cleaned_cos_dist['is_duplicate'] == 0], ax=axes[0])\n",
    "plt.sca(axes[0])\n",
    "plt.title('Not Duplicate')\n",
    "sns.histplot(df_cleaned_cos_dist['Distance'][df_cleaned_cos_dist['is_duplicate'] == 1], ax=axes[1])\n",
    "plt.sca(axes[1])\n",
    "plt.title('Duplicate')\n",
    "fig.suptitle('Distribution of Euclidean Distance\\nfor each Label', fontsize=20)\n",
    "fig.tight_layout();"
   ]
  },
  {
   "cell_type": "markdown",
   "id": "9bf56c6c",
   "metadata": {},
   "source": [
    "### Looking at the differences between the cleaned and original questions"
   ]
  },
  {
   "cell_type": "code",
   "execution_count": 48,
   "id": "0ad669c8",
   "metadata": {},
   "outputs": [
    {
     "data": {
      "text/plain": [
       "0.03991854970933416"
      ]
     },
     "execution_count": 48,
     "metadata": {},
     "output_type": "execute_result"
    }
   ],
   "source": [
    "(df_cos_dist['Cosine Similarity'] - df_cleaned_cos_dist['Cosine Similarity']).mean()"
   ]
  },
  {
   "cell_type": "markdown",
   "id": "60ccac23",
   "metadata": {},
   "source": [
    "The average cosine similarity increased by around 0.4"
   ]
  },
  {
   "cell_type": "code",
   "execution_count": 49,
   "id": "f922440c",
   "metadata": {},
   "outputs": [
    {
     "data": {
      "text/plain": [
       "-0.712053944395288"
      ]
     },
     "execution_count": 49,
     "metadata": {},
     "output_type": "execute_result"
    }
   ],
   "source": [
    "(df_cos_dist['Distance'] - df_cleaned_cos_dist['Distance']).mean()"
   ]
  },
  {
   "cell_type": "markdown",
   "id": "44ae37fb",
   "metadata": {},
   "source": [
    "The average distance decreased by arround 0.7 "
   ]
  },
  {
   "cell_type": "code",
   "execution_count": 50,
   "id": "4450bed5",
   "metadata": {},
   "outputs": [
    {
     "data": {
      "text/plain": [
       "5.59205"
      ]
     },
     "execution_count": 50,
     "metadata": {},
     "output_type": "execute_result"
    }
   ],
   "source": [
    "(df['question1_wc'] - df['question1_cleaned_wc']).mean()"
   ]
  },
  {
   "cell_type": "code",
   "execution_count": 51,
   "id": "75574487",
   "metadata": {},
   "outputs": [
    {
     "data": {
      "text/plain": [
       "5.76612"
      ]
     },
     "execution_count": 51,
     "metadata": {},
     "output_type": "execute_result"
    }
   ],
   "source": [
    "(df['question2_wc'] - df['question2_cleaned_wc']).mean()"
   ]
  },
  {
   "cell_type": "markdown",
   "id": "c7530f22",
   "metadata": {},
   "source": [
    "The average question decreased by 5 to 6 words after cleaning"
   ]
  },
  {
   "cell_type": "markdown",
   "id": "c0ac2000",
   "metadata": {},
   "source": [
    "## Saving the Pre-Processed Datasets"
   ]
  },
  {
   "cell_type": "markdown",
   "id": "22b5a735",
   "metadata": {},
   "source": [
    "In this next section, I will be saving the datasets into a dataset that contains the questions, word counts, and embeddings for both the original and cleaned questions. "
   ]
  },
  {
   "cell_type": "markdown",
   "id": "b25b3f4d",
   "metadata": {},
   "source": [
    "**Adding the questions back to the embeddings dataset**\n",
    "\n",
    "I am adding the questions back to the embeddings dataset in order to be able to look at which one's we incorrectly predict"
   ]
  },
  {
   "cell_type": "code",
   "execution_count": 52,
   "id": "1898b973",
   "metadata": {},
   "outputs": [],
   "source": [
    "# df_preproccessed = pd.concat([df[['question1','question2','question1_wc','question2_wc',]], df_embeddings], axis=1).rename(columns={'2048':'is_duplicate'}).copy()\n",
    "# df_preproccessed.to_csv('quora_preprocessed_embeddings.csv', index=False)"
   ]
  },
  {
   "cell_type": "code",
   "execution_count": 53,
   "id": "860dd61c",
   "metadata": {
    "scrolled": false
   },
   "outputs": [
    {
     "name": "stdout",
     "output_type": "stream",
     "text": [
      "(100000, 2053)\n"
     ]
    },
    {
     "data": {
      "text/html": [
       "<div>\n",
       "<style scoped>\n",
       "    .dataframe tbody tr th:only-of-type {\n",
       "        vertical-align: middle;\n",
       "    }\n",
       "\n",
       "    .dataframe tbody tr th {\n",
       "        vertical-align: top;\n",
       "    }\n",
       "\n",
       "    .dataframe thead th {\n",
       "        text-align: right;\n",
       "    }\n",
       "</style>\n",
       "<table border=\"1\" class=\"dataframe\">\n",
       "  <thead>\n",
       "    <tr style=\"text-align: right;\">\n",
       "      <th></th>\n",
       "      <th>question1</th>\n",
       "      <th>question2</th>\n",
       "      <th>question1_wc</th>\n",
       "      <th>question2_wc</th>\n",
       "      <th>0</th>\n",
       "      <th>1</th>\n",
       "      <th>2</th>\n",
       "      <th>3</th>\n",
       "      <th>4</th>\n",
       "      <th>5</th>\n",
       "      <th>...</th>\n",
       "      <th>2039</th>\n",
       "      <th>2040</th>\n",
       "      <th>2041</th>\n",
       "      <th>2042</th>\n",
       "      <th>2043</th>\n",
       "      <th>2044</th>\n",
       "      <th>2045</th>\n",
       "      <th>2046</th>\n",
       "      <th>2047</th>\n",
       "      <th>is_duplicate</th>\n",
       "    </tr>\n",
       "  </thead>\n",
       "  <tbody>\n",
       "    <tr>\n",
       "      <th>0</th>\n",
       "      <td>How do I play Pokémon GO in Korea?</td>\n",
       "      <td>How do I play Pokémon GO in China?</td>\n",
       "      <td>8</td>\n",
       "      <td>8</td>\n",
       "      <td>0.405561</td>\n",
       "      <td>0.351042</td>\n",
       "      <td>0.145522</td>\n",
       "      <td>1.000624</td>\n",
       "      <td>-0.327835</td>\n",
       "      <td>-0.690683</td>\n",
       "      <td>...</td>\n",
       "      <td>0.324852</td>\n",
       "      <td>-0.490256</td>\n",
       "      <td>-0.671185</td>\n",
       "      <td>0.091470</td>\n",
       "      <td>0.934359</td>\n",
       "      <td>0.534707</td>\n",
       "      <td>-0.032896</td>\n",
       "      <td>-0.541392</td>\n",
       "      <td>-1.225177</td>\n",
       "      <td>0.0</td>\n",
       "    </tr>\n",
       "    <tr>\n",
       "      <th>1</th>\n",
       "      <td>What are some of the best side dishes for crab...</td>\n",
       "      <td>What are some good side dishes for buffalo chi...</td>\n",
       "      <td>11</td>\n",
       "      <td>9</td>\n",
       "      <td>0.300924</td>\n",
       "      <td>-0.955288</td>\n",
       "      <td>-0.028438</td>\n",
       "      <td>-0.057767</td>\n",
       "      <td>-0.116978</td>\n",
       "      <td>0.664040</td>\n",
       "      <td>...</td>\n",
       "      <td>-0.696291</td>\n",
       "      <td>-0.581999</td>\n",
       "      <td>-2.126769</td>\n",
       "      <td>0.236446</td>\n",
       "      <td>0.657223</td>\n",
       "      <td>-0.261457</td>\n",
       "      <td>0.327333</td>\n",
       "      <td>-0.159874</td>\n",
       "      <td>-0.559062</td>\n",
       "      <td>0.0</td>\n",
       "    </tr>\n",
       "    <tr>\n",
       "      <th>2</th>\n",
       "      <td>Which is more advisable and better material fo...</td>\n",
       "      <td>What is the best server setup for buddypress?</td>\n",
       "      <td>16</td>\n",
       "      <td>8</td>\n",
       "      <td>0.394129</td>\n",
       "      <td>-0.020451</td>\n",
       "      <td>0.822735</td>\n",
       "      <td>0.161385</td>\n",
       "      <td>0.290848</td>\n",
       "      <td>0.527879</td>\n",
       "      <td>...</td>\n",
       "      <td>-0.211299</td>\n",
       "      <td>-0.892678</td>\n",
       "      <td>-1.750959</td>\n",
       "      <td>0.175476</td>\n",
       "      <td>0.429432</td>\n",
       "      <td>0.389655</td>\n",
       "      <td>0.212048</td>\n",
       "      <td>0.102080</td>\n",
       "      <td>-0.588654</td>\n",
       "      <td>0.0</td>\n",
       "    </tr>\n",
       "    <tr>\n",
       "      <th>3</th>\n",
       "      <td>How do I improve logical programming skills?</td>\n",
       "      <td>How can I improve my logical skills for progra...</td>\n",
       "      <td>7</td>\n",
       "      <td>9</td>\n",
       "      <td>0.256092</td>\n",
       "      <td>-1.279762</td>\n",
       "      <td>0.247349</td>\n",
       "      <td>-0.618753</td>\n",
       "      <td>0.534039</td>\n",
       "      <td>0.612880</td>\n",
       "      <td>...</td>\n",
       "      <td>-0.398293</td>\n",
       "      <td>-0.139095</td>\n",
       "      <td>-0.957269</td>\n",
       "      <td>0.427750</td>\n",
       "      <td>0.424172</td>\n",
       "      <td>0.942060</td>\n",
       "      <td>0.083971</td>\n",
       "      <td>-1.021245</td>\n",
       "      <td>-0.237951</td>\n",
       "      <td>1.0</td>\n",
       "    </tr>\n",
       "    <tr>\n",
       "      <th>4</th>\n",
       "      <td>How close we are to see 3rd world war?</td>\n",
       "      <td>How close is a World War III?</td>\n",
       "      <td>9</td>\n",
       "      <td>7</td>\n",
       "      <td>0.348143</td>\n",
       "      <td>0.070992</td>\n",
       "      <td>0.533568</td>\n",
       "      <td>0.676788</td>\n",
       "      <td>0.621202</td>\n",
       "      <td>-0.213371</td>\n",
       "      <td>...</td>\n",
       "      <td>0.887324</td>\n",
       "      <td>-1.132204</td>\n",
       "      <td>-0.505966</td>\n",
       "      <td>0.084157</td>\n",
       "      <td>-0.245989</td>\n",
       "      <td>0.200148</td>\n",
       "      <td>0.362305</td>\n",
       "      <td>-0.552422</td>\n",
       "      <td>-0.970416</td>\n",
       "      <td>1.0</td>\n",
       "    </tr>\n",
       "  </tbody>\n",
       "</table>\n",
       "<p>5 rows × 2053 columns</p>\n",
       "</div>"
      ],
      "text/plain": [
       "                                           question1  \\\n",
       "0                 How do I play Pokémon GO in Korea?   \n",
       "1  What are some of the best side dishes for crab...   \n",
       "2  Which is more advisable and better material fo...   \n",
       "3       How do I improve logical programming skills?   \n",
       "4             How close we are to see 3rd world war?   \n",
       "\n",
       "                                           question2  question1_wc  \\\n",
       "0                 How do I play Pokémon GO in China?             8   \n",
       "1  What are some good side dishes for buffalo chi...            11   \n",
       "2      What is the best server setup for buddypress?            16   \n",
       "3  How can I improve my logical skills for progra...             7   \n",
       "4                      How close is a World War III?             9   \n",
       "\n",
       "   question2_wc         0         1         2         3         4         5  \\\n",
       "0             8  0.405561  0.351042  0.145522  1.000624 -0.327835 -0.690683   \n",
       "1             9  0.300924 -0.955288 -0.028438 -0.057767 -0.116978  0.664040   \n",
       "2             8  0.394129 -0.020451  0.822735  0.161385  0.290848  0.527879   \n",
       "3             9  0.256092 -1.279762  0.247349 -0.618753  0.534039  0.612880   \n",
       "4             7  0.348143  0.070992  0.533568  0.676788  0.621202 -0.213371   \n",
       "\n",
       "   ...      2039      2040      2041      2042      2043      2044      2045  \\\n",
       "0  ...  0.324852 -0.490256 -0.671185  0.091470  0.934359  0.534707 -0.032896   \n",
       "1  ... -0.696291 -0.581999 -2.126769  0.236446  0.657223 -0.261457  0.327333   \n",
       "2  ... -0.211299 -0.892678 -1.750959  0.175476  0.429432  0.389655  0.212048   \n",
       "3  ... -0.398293 -0.139095 -0.957269  0.427750  0.424172  0.942060  0.083971   \n",
       "4  ...  0.887324 -1.132204 -0.505966  0.084157 -0.245989  0.200148  0.362305   \n",
       "\n",
       "       2046      2047  is_duplicate  \n",
       "0 -0.541392 -1.225177           0.0  \n",
       "1 -0.159874 -0.559062           0.0  \n",
       "2  0.102080 -0.588654           0.0  \n",
       "3 -1.021245 -0.237951           1.0  \n",
       "4 -0.552422 -0.970416           1.0  \n",
       "\n",
       "[5 rows x 2053 columns]"
      ]
     },
     "execution_count": 53,
     "metadata": {},
     "output_type": "execute_result"
    }
   ],
   "source": [
    "df_preproccessed = pd.read_csv('quora_preprocessed_embeddings.csv')\n",
    "print(df_preproccessed.shape)\n",
    "df_preproccessed.head()"
   ]
  },
  {
   "cell_type": "markdown",
   "id": "8558b543",
   "metadata": {},
   "source": [
    "*Making the cleaned dataset*"
   ]
  },
  {
   "cell_type": "code",
   "execution_count": 54,
   "id": "76a184b1",
   "metadata": {},
   "outputs": [],
   "source": [
    "df_cleaned_preproccessed = pd.concat([df[['question1_cleaned','question2_cleaned','question1_cleaned_wc','question2_cleaned_wc',]], df_cleaned_embeddings], axis=1).rename(columns={'2048':'is_duplicate'}).copy()\n",
    "df_cleaned_preproccessed.to_csv('quora_cleaned_preprocessed_embeddings.csv', index=False)"
   ]
  },
  {
   "cell_type": "code",
   "execution_count": 55,
   "id": "847885be",
   "metadata": {},
   "outputs": [
    {
     "name": "stdout",
     "output_type": "stream",
     "text": [
      "(100000, 2053)\n"
     ]
    },
    {
     "data": {
      "text/html": [
       "<div>\n",
       "<style scoped>\n",
       "    .dataframe tbody tr th:only-of-type {\n",
       "        vertical-align: middle;\n",
       "    }\n",
       "\n",
       "    .dataframe tbody tr th {\n",
       "        vertical-align: top;\n",
       "    }\n",
       "\n",
       "    .dataframe thead th {\n",
       "        text-align: right;\n",
       "    }\n",
       "</style>\n",
       "<table border=\"1\" class=\"dataframe\">\n",
       "  <thead>\n",
       "    <tr style=\"text-align: right;\">\n",
       "      <th></th>\n",
       "      <th>question1_cleaned</th>\n",
       "      <th>question2_cleaned</th>\n",
       "      <th>question1_cleaned_wc</th>\n",
       "      <th>question2_cleaned_wc</th>\n",
       "      <th>0</th>\n",
       "      <th>1</th>\n",
       "      <th>2</th>\n",
       "      <th>3</th>\n",
       "      <th>4</th>\n",
       "      <th>5</th>\n",
       "      <th>...</th>\n",
       "      <th>2039</th>\n",
       "      <th>2040</th>\n",
       "      <th>2041</th>\n",
       "      <th>2042</th>\n",
       "      <th>2043</th>\n",
       "      <th>2044</th>\n",
       "      <th>2045</th>\n",
       "      <th>2046</th>\n",
       "      <th>2047</th>\n",
       "      <th>is_duplicate</th>\n",
       "    </tr>\n",
       "  </thead>\n",
       "  <tbody>\n",
       "    <tr>\n",
       "      <th>0</th>\n",
       "      <td>play pokémon go korea</td>\n",
       "      <td>play pokémon go china</td>\n",
       "      <td>4</td>\n",
       "      <td>4</td>\n",
       "      <td>0.099863</td>\n",
       "      <td>0.804212</td>\n",
       "      <td>0.457976</td>\n",
       "      <td>1.360421</td>\n",
       "      <td>-0.439485</td>\n",
       "      <td>-0.542794</td>\n",
       "      <td>...</td>\n",
       "      <td>0.198325</td>\n",
       "      <td>-0.638950</td>\n",
       "      <td>-0.256670</td>\n",
       "      <td>-0.147607</td>\n",
       "      <td>0.427118</td>\n",
       "      <td>0.315945</td>\n",
       "      <td>-0.052933</td>\n",
       "      <td>-0.446774</td>\n",
       "      <td>-0.929896</td>\n",
       "      <td>0.0</td>\n",
       "    </tr>\n",
       "    <tr>\n",
       "      <th>1</th>\n",
       "      <td>best side dish crab cake</td>\n",
       "      <td>good side dish buffalo chicken</td>\n",
       "      <td>5</td>\n",
       "      <td>5</td>\n",
       "      <td>0.579055</td>\n",
       "      <td>-0.467236</td>\n",
       "      <td>-0.014480</td>\n",
       "      <td>0.050153</td>\n",
       "      <td>-0.338045</td>\n",
       "      <td>0.431639</td>\n",
       "      <td>...</td>\n",
       "      <td>-0.860721</td>\n",
       "      <td>-0.555505</td>\n",
       "      <td>-1.613838</td>\n",
       "      <td>-0.139364</td>\n",
       "      <td>0.284707</td>\n",
       "      <td>-0.446280</td>\n",
       "      <td>0.189698</td>\n",
       "      <td>-0.195710</td>\n",
       "      <td>-0.583254</td>\n",
       "      <td>0.0</td>\n",
       "    </tr>\n",
       "    <tr>\n",
       "      <th>2</th>\n",
       "      <td>advis better materi crash test automobil ducti...</td>\n",
       "      <td>best server setup buddypress</td>\n",
       "      <td>8</td>\n",
       "      <td>4</td>\n",
       "      <td>0.295399</td>\n",
       "      <td>-0.071162</td>\n",
       "      <td>0.662856</td>\n",
       "      <td>0.133914</td>\n",
       "      <td>-0.059055</td>\n",
       "      <td>0.359554</td>\n",
       "      <td>...</td>\n",
       "      <td>-0.308801</td>\n",
       "      <td>-0.583140</td>\n",
       "      <td>-1.033460</td>\n",
       "      <td>0.000881</td>\n",
       "      <td>-0.071482</td>\n",
       "      <td>-0.163930</td>\n",
       "      <td>-0.425215</td>\n",
       "      <td>0.229150</td>\n",
       "      <td>-0.357686</td>\n",
       "      <td>0.0</td>\n",
       "    </tr>\n",
       "    <tr>\n",
       "      <th>3</th>\n",
       "      <td>improv logic program skill</td>\n",
       "      <td>improv logic skill program</td>\n",
       "      <td>4</td>\n",
       "      <td>4</td>\n",
       "      <td>-0.179769</td>\n",
       "      <td>-0.170566</td>\n",
       "      <td>0.261266</td>\n",
       "      <td>-0.477791</td>\n",
       "      <td>-0.310139</td>\n",
       "      <td>0.050823</td>\n",
       "      <td>...</td>\n",
       "      <td>-1.031234</td>\n",
       "      <td>-0.424010</td>\n",
       "      <td>-1.140022</td>\n",
       "      <td>-0.059757</td>\n",
       "      <td>0.505181</td>\n",
       "      <td>0.662573</td>\n",
       "      <td>0.303810</td>\n",
       "      <td>-0.766564</td>\n",
       "      <td>0.073204</td>\n",
       "      <td>1.0</td>\n",
       "    </tr>\n",
       "    <tr>\n",
       "      <th>4</th>\n",
       "      <td>close see world war</td>\n",
       "      <td>close world war iii</td>\n",
       "      <td>4</td>\n",
       "      <td>4</td>\n",
       "      <td>0.013538</td>\n",
       "      <td>0.066066</td>\n",
       "      <td>1.023784</td>\n",
       "      <td>0.517954</td>\n",
       "      <td>0.606080</td>\n",
       "      <td>0.089296</td>\n",
       "      <td>...</td>\n",
       "      <td>0.170532</td>\n",
       "      <td>-1.291750</td>\n",
       "      <td>0.085144</td>\n",
       "      <td>-0.049792</td>\n",
       "      <td>-0.246931</td>\n",
       "      <td>0.490173</td>\n",
       "      <td>0.197307</td>\n",
       "      <td>-0.669707</td>\n",
       "      <td>-0.590559</td>\n",
       "      <td>1.0</td>\n",
       "    </tr>\n",
       "  </tbody>\n",
       "</table>\n",
       "<p>5 rows × 2053 columns</p>\n",
       "</div>"
      ],
      "text/plain": [
       "                                   question1_cleaned  \\\n",
       "0                              play pokémon go korea   \n",
       "1                           best side dish crab cake   \n",
       "2  advis better materi crash test automobil ducti...   \n",
       "3                         improv logic program skill   \n",
       "4                                close see world war   \n",
       "\n",
       "                question2_cleaned  question1_cleaned_wc  question2_cleaned_wc  \\\n",
       "0           play pokémon go china                     4                     4   \n",
       "1  good side dish buffalo chicken                     5                     5   \n",
       "2    best server setup buddypress                     8                     4   \n",
       "3      improv logic skill program                     4                     4   \n",
       "4             close world war iii                     4                     4   \n",
       "\n",
       "          0         1         2         3         4         5  ...      2039  \\\n",
       "0  0.099863  0.804212  0.457976  1.360421 -0.439485 -0.542794  ...  0.198325   \n",
       "1  0.579055 -0.467236 -0.014480  0.050153 -0.338045  0.431639  ... -0.860721   \n",
       "2  0.295399 -0.071162  0.662856  0.133914 -0.059055  0.359554  ... -0.308801   \n",
       "3 -0.179769 -0.170566  0.261266 -0.477791 -0.310139  0.050823  ... -1.031234   \n",
       "4  0.013538  0.066066  1.023784  0.517954  0.606080  0.089296  ...  0.170532   \n",
       "\n",
       "       2040      2041      2042      2043      2044      2045      2046  \\\n",
       "0 -0.638950 -0.256670 -0.147607  0.427118  0.315945 -0.052933 -0.446774   \n",
       "1 -0.555505 -1.613838 -0.139364  0.284707 -0.446280  0.189698 -0.195710   \n",
       "2 -0.583140 -1.033460  0.000881 -0.071482 -0.163930 -0.425215  0.229150   \n",
       "3 -0.424010 -1.140022 -0.059757  0.505181  0.662573  0.303810 -0.766564   \n",
       "4 -1.291750  0.085144 -0.049792 -0.246931  0.490173  0.197307 -0.669707   \n",
       "\n",
       "       2047  is_duplicate  \n",
       "0 -0.929896           0.0  \n",
       "1 -0.583254           0.0  \n",
       "2 -0.357686           0.0  \n",
       "3  0.073204           1.0  \n",
       "4 -0.590559           1.0  \n",
       "\n",
       "[5 rows x 2053 columns]"
      ]
     },
     "execution_count": 55,
     "metadata": {},
     "output_type": "execute_result"
    }
   ],
   "source": [
    "df_cleaned_preproccessed = pd.read_csv('quora_cleaned_preprocessed_embeddings.csv')\n",
    "print(df_cleaned_preproccessed.shape)\n",
    "df_cleaned_preproccessed.head()"
   ]
  },
  {
   "cell_type": "code",
   "execution_count": null,
   "id": "bd679688",
   "metadata": {},
   "outputs": [],
   "source": []
  }
 ],
 "metadata": {
  "kernelspec": {
   "display_name": "Python 3",
   "language": "python",
   "name": "python3"
  },
  "language_info": {
   "codemirror_mode": {
    "name": "ipython",
    "version": 3
   },
   "file_extension": ".py",
   "mimetype": "text/x-python",
   "name": "python",
   "nbconvert_exporter": "python",
   "pygments_lexer": "ipython3",
   "version": "3.8.8"
  }
 },
 "nbformat": 4,
 "nbformat_minor": 5
}
